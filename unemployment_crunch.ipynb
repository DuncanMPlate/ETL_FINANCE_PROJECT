{
 "cells": [
  {
   "cell_type": "code",
   "execution_count": 40,
   "source": [
    "import pandas as pd\n",
    "from sqlalchemy import create_engine \n",
    "from sqlalchemy.orm import Session"
   ],
   "outputs": [],
   "metadata": {}
  },
  {
   "cell_type": "code",
   "execution_count": 14,
   "source": [
    "csv_file =\"../group_project_2_copy/Resources/unemployment.csv\"\n",
    "unemployment_df= pd.read_csv(csv_file)\n",
    "unemployment_df.head()"
   ],
   "outputs": [
    {
     "output_type": "stream",
     "name": "stderr",
     "text": [
      "C:\\Users\\juliebaker\\anaconda3Win\\lib\\site-packages\\IPython\\core\\interactiveshell.py:3146: DtypeWarning: Columns (7) have mixed types.Specify dtype option on import or set low_memory=False.\n  has_raised = await self.run_ast_nodes(code_ast.body, cell_name,\n"
     ]
    },
    {
     "output_type": "execute_result",
     "data": {
      "text/plain": [
       "  LOCATION INDICATOR SUBJECT MEASURE FREQUENCY  TIME  Value Flag Codes\n",
       "0      AUS       HUR     TOT   PC_LF         A  1967  1.875        NaN\n",
       "1      AUS       HUR     TOT   PC_LF         A  1968  1.850        NaN\n",
       "2      AUS       HUR     TOT   PC_LF         A  1969  1.800        NaN\n",
       "3      AUS       HUR     TOT   PC_LF         A  1970  1.625        NaN\n",
       "4      AUS       HUR     TOT   PC_LF         A  1971  1.925        NaN"
      ],
      "text/html": "<div>\n<style scoped>\n    .dataframe tbody tr th:only-of-type {\n        vertical-align: middle;\n    }\n\n    .dataframe tbody tr th {\n        vertical-align: top;\n    }\n\n    .dataframe thead th {\n        text-align: right;\n    }\n</style>\n<table border=\"1\" class=\"dataframe\">\n  <thead>\n    <tr style=\"text-align: right;\">\n      <th></th>\n      <th>LOCATION</th>\n      <th>INDICATOR</th>\n      <th>SUBJECT</th>\n      <th>MEASURE</th>\n      <th>FREQUENCY</th>\n      <th>TIME</th>\n      <th>Value</th>\n      <th>Flag Codes</th>\n    </tr>\n  </thead>\n  <tbody>\n    <tr>\n      <th>0</th>\n      <td>AUS</td>\n      <td>HUR</td>\n      <td>TOT</td>\n      <td>PC_LF</td>\n      <td>A</td>\n      <td>1967</td>\n      <td>1.875</td>\n      <td>NaN</td>\n    </tr>\n    <tr>\n      <th>1</th>\n      <td>AUS</td>\n      <td>HUR</td>\n      <td>TOT</td>\n      <td>PC_LF</td>\n      <td>A</td>\n      <td>1968</td>\n      <td>1.850</td>\n      <td>NaN</td>\n    </tr>\n    <tr>\n      <th>2</th>\n      <td>AUS</td>\n      <td>HUR</td>\n      <td>TOT</td>\n      <td>PC_LF</td>\n      <td>A</td>\n      <td>1969</td>\n      <td>1.800</td>\n      <td>NaN</td>\n    </tr>\n    <tr>\n      <th>3</th>\n      <td>AUS</td>\n      <td>HUR</td>\n      <td>TOT</td>\n      <td>PC_LF</td>\n      <td>A</td>\n      <td>1970</td>\n      <td>1.625</td>\n      <td>NaN</td>\n    </tr>\n    <tr>\n      <th>4</th>\n      <td>AUS</td>\n      <td>HUR</td>\n      <td>TOT</td>\n      <td>PC_LF</td>\n      <td>A</td>\n      <td>1971</td>\n      <td>1.925</td>\n      <td>NaN</td>\n    </tr>\n  </tbody>\n</table>\n</div>"
     },
     "metadata": {},
     "execution_count": 14
    }
   ],
   "metadata": {}
  },
  {
   "source": [
    "csv_file_2 =\"../group_project_2/Resources/indexInfo.csv\"\n",
    "indexInfo_df= pd.read_csv(csv_file_2)\n",
    "indexInfo_df.head()"
   ],
   "cell_type": "markdown",
   "metadata": {}
  },
  {
   "source": [
    "csv_file_3 =\"../group_project_2/Resources/indexProcessed.csv\"\n",
    "indexProcessed_df= pd.read_csv(csv_file_3)\n",
    "indexProcessed_df.head()"
   ],
   "cell_type": "markdown",
   "metadata": {}
  },
  {
   "cell_type": "code",
   "execution_count": 5,
   "source": [
    "rds_connection_string = \"postgres:Class123@localhost:5432/stock_exchange\"\n",
    "engine = create_engine(f'postgresql://{rds_connection_string}')"
   ],
   "outputs": [],
   "metadata": {}
  },
  {
   "cell_type": "code",
   "execution_count": 6,
   "source": [
    "engine.table_names()"
   ],
   "outputs": [
    {
     "output_type": "execute_result",
     "data": {
      "text/plain": [
       "['indexinfo', 'indexdata', 'unemployment']"
      ]
     },
     "metadata": {},
     "execution_count": 6
    }
   ],
   "metadata": {}
  },
  {
   "cell_type": "code",
   "execution_count": 15,
   "source": [
    "unemployment_df.to_sql(name='unemployment', con=engine, if_exists='append', index=True,index_label='id')"
   ],
   "outputs": [],
   "metadata": {}
  },
  {
   "source": [
    "indexData_df.to_sql(name='indexdata', con=engine, if_exists='append', index=True, index_label='id')"
   ],
   "cell_type": "markdown",
   "metadata": {}
  },
  {
   "cell_type": "code",
   "execution_count": 26,
   "metadata": {},
   "outputs": [
    {
     "output_type": "execute_result",
     "data": {
      "text/plain": [
       "   id LOCATION INDICATOR SUBJECT MEASURE FREQUENCY  TIME  Value Flag Codes\n",
       "0   0      AUS       HUR     TOT   PC_LF         A  1967  1.875       None\n",
       "1   1      AUS       HUR     TOT   PC_LF         A  1968  1.850       None\n",
       "2   2      AUS       HUR     TOT   PC_LF         A  1969  1.800       None\n",
       "3   3      AUS       HUR     TOT   PC_LF         A  1970  1.625       None\n",
       "4   4      AUS       HUR     TOT   PC_LF         A  1971  1.925       None"
      ],
      "text/html": "<div>\n<style scoped>\n    .dataframe tbody tr th:only-of-type {\n        vertical-align: middle;\n    }\n\n    .dataframe tbody tr th {\n        vertical-align: top;\n    }\n\n    .dataframe thead th {\n        text-align: right;\n    }\n</style>\n<table border=\"1\" class=\"dataframe\">\n  <thead>\n    <tr style=\"text-align: right;\">\n      <th></th>\n      <th>id</th>\n      <th>LOCATION</th>\n      <th>INDICATOR</th>\n      <th>SUBJECT</th>\n      <th>MEASURE</th>\n      <th>FREQUENCY</th>\n      <th>TIME</th>\n      <th>Value</th>\n      <th>Flag Codes</th>\n    </tr>\n  </thead>\n  <tbody>\n    <tr>\n      <th>0</th>\n      <td>0</td>\n      <td>AUS</td>\n      <td>HUR</td>\n      <td>TOT</td>\n      <td>PC_LF</td>\n      <td>A</td>\n      <td>1967</td>\n      <td>1.875</td>\n      <td>None</td>\n    </tr>\n    <tr>\n      <th>1</th>\n      <td>1</td>\n      <td>AUS</td>\n      <td>HUR</td>\n      <td>TOT</td>\n      <td>PC_LF</td>\n      <td>A</td>\n      <td>1968</td>\n      <td>1.850</td>\n      <td>None</td>\n    </tr>\n    <tr>\n      <th>2</th>\n      <td>2</td>\n      <td>AUS</td>\n      <td>HUR</td>\n      <td>TOT</td>\n      <td>PC_LF</td>\n      <td>A</td>\n      <td>1969</td>\n      <td>1.800</td>\n      <td>None</td>\n    </tr>\n    <tr>\n      <th>3</th>\n      <td>3</td>\n      <td>AUS</td>\n      <td>HUR</td>\n      <td>TOT</td>\n      <td>PC_LF</td>\n      <td>A</td>\n      <td>1970</td>\n      <td>1.625</td>\n      <td>None</td>\n    </tr>\n    <tr>\n      <th>4</th>\n      <td>4</td>\n      <td>AUS</td>\n      <td>HUR</td>\n      <td>TOT</td>\n      <td>PC_LF</td>\n      <td>A</td>\n      <td>1971</td>\n      <td>1.925</td>\n      <td>None</td>\n    </tr>\n  </tbody>\n</table>\n</div>"
     },
     "metadata": {},
     "execution_count": 26
    }
   ],
   "source": [
    "pd.read_sql_query(f'select * from unemployment', con=engine).head()"
   ]
  },
  {
   "cell_type": "code",
   "execution_count": 72,
   "source": [
    "query1=\"\"\"select * from unemployment where \"LOCATION\" = 'USA' OR \"LOCATION\" = 'CAN' OR \"LOCATION\" = 'CHE' OR \"LOCATION\" = 'DEU' OR \"LOCATION\" = 'JPN' OR \"LOCATION\" = 'KOR' OR \"LOCATION\" = 'EA19' OR \"LOCATION\" = 'EU27_2020'\"\"\"\n",
    "redux_unemp_df1=pd.read_sql_query(query1, con=engine)\n",
    "# pd.read_sql_query(\"select * from unemployment WHERE \"LOCATION\" = 'USA'\", con=engine).head()"
   ],
   "outputs": [],
   "metadata": {}
  },
  {
   "cell_type": "code",
   "execution_count": 73,
   "metadata": {},
   "outputs": [
    {
     "output_type": "execute_result",
     "data": {
      "text/plain": [
       "          id   LOCATION INDICATOR SUBJECT MEASURE FREQUENCY     TIME  \\\n",
       "0        120        CAN       HUR     TOT   PC_LF         A     1955   \n",
       "1        121        CAN       HUR     TOT   PC_LF         A     1956   \n",
       "2        122        CAN       HUR     TOT   PC_LF         A     1957   \n",
       "3        123        CAN       HUR     TOT   PC_LF         A     1958   \n",
       "4        124        CAN       HUR     TOT   PC_LF         A     1959   \n",
       "...      ...        ...       ...     ...     ...       ...      ...   \n",
       "16264  65367  EU27_2020       HUR   WOMEN   PC_LF         M  2021-02   \n",
       "16265  65368  EU27_2020       HUR   WOMEN   PC_LF         M  2021-03   \n",
       "16266  65369  EU27_2020       HUR   WOMEN   PC_LF         M  2021-04   \n",
       "16267  65370  EU27_2020       HUR   WOMEN   PC_LF         M  2021-05   \n",
       "16268  65371  EU27_2020       HUR   WOMEN   PC_LF         M  2021-06   \n",
       "\n",
       "          Value Flag Codes  \n",
       "0      4.408333       None  \n",
       "1      3.433333       None  \n",
       "2      4.650000       None  \n",
       "3      7.066667       None  \n",
       "4      5.991667       None  \n",
       "...         ...        ...  \n",
       "16264  7.800000       None  \n",
       "16265  7.800000       None  \n",
       "16266  7.800000       None  \n",
       "16267  7.700000       None  \n",
       "16268  7.500000       None  \n",
       "\n",
       "[16269 rows x 9 columns]"
      ],
      "text/html": "<div>\n<style scoped>\n    .dataframe tbody tr th:only-of-type {\n        vertical-align: middle;\n    }\n\n    .dataframe tbody tr th {\n        vertical-align: top;\n    }\n\n    .dataframe thead th {\n        text-align: right;\n    }\n</style>\n<table border=\"1\" class=\"dataframe\">\n  <thead>\n    <tr style=\"text-align: right;\">\n      <th></th>\n      <th>id</th>\n      <th>LOCATION</th>\n      <th>INDICATOR</th>\n      <th>SUBJECT</th>\n      <th>MEASURE</th>\n      <th>FREQUENCY</th>\n      <th>TIME</th>\n      <th>Value</th>\n      <th>Flag Codes</th>\n    </tr>\n  </thead>\n  <tbody>\n    <tr>\n      <th>0</th>\n      <td>120</td>\n      <td>CAN</td>\n      <td>HUR</td>\n      <td>TOT</td>\n      <td>PC_LF</td>\n      <td>A</td>\n      <td>1955</td>\n      <td>4.408333</td>\n      <td>None</td>\n    </tr>\n    <tr>\n      <th>1</th>\n      <td>121</td>\n      <td>CAN</td>\n      <td>HUR</td>\n      <td>TOT</td>\n      <td>PC_LF</td>\n      <td>A</td>\n      <td>1956</td>\n      <td>3.433333</td>\n      <td>None</td>\n    </tr>\n    <tr>\n      <th>2</th>\n      <td>122</td>\n      <td>CAN</td>\n      <td>HUR</td>\n      <td>TOT</td>\n      <td>PC_LF</td>\n      <td>A</td>\n      <td>1957</td>\n      <td>4.650000</td>\n      <td>None</td>\n    </tr>\n    <tr>\n      <th>3</th>\n      <td>123</td>\n      <td>CAN</td>\n      <td>HUR</td>\n      <td>TOT</td>\n      <td>PC_LF</td>\n      <td>A</td>\n      <td>1958</td>\n      <td>7.066667</td>\n      <td>None</td>\n    </tr>\n    <tr>\n      <th>4</th>\n      <td>124</td>\n      <td>CAN</td>\n      <td>HUR</td>\n      <td>TOT</td>\n      <td>PC_LF</td>\n      <td>A</td>\n      <td>1959</td>\n      <td>5.991667</td>\n      <td>None</td>\n    </tr>\n    <tr>\n      <th>...</th>\n      <td>...</td>\n      <td>...</td>\n      <td>...</td>\n      <td>...</td>\n      <td>...</td>\n      <td>...</td>\n      <td>...</td>\n      <td>...</td>\n      <td>...</td>\n    </tr>\n    <tr>\n      <th>16264</th>\n      <td>65367</td>\n      <td>EU27_2020</td>\n      <td>HUR</td>\n      <td>WOMEN</td>\n      <td>PC_LF</td>\n      <td>M</td>\n      <td>2021-02</td>\n      <td>7.800000</td>\n      <td>None</td>\n    </tr>\n    <tr>\n      <th>16265</th>\n      <td>65368</td>\n      <td>EU27_2020</td>\n      <td>HUR</td>\n      <td>WOMEN</td>\n      <td>PC_LF</td>\n      <td>M</td>\n      <td>2021-03</td>\n      <td>7.800000</td>\n      <td>None</td>\n    </tr>\n    <tr>\n      <th>16266</th>\n      <td>65369</td>\n      <td>EU27_2020</td>\n      <td>HUR</td>\n      <td>WOMEN</td>\n      <td>PC_LF</td>\n      <td>M</td>\n      <td>2021-04</td>\n      <td>7.800000</td>\n      <td>None</td>\n    </tr>\n    <tr>\n      <th>16267</th>\n      <td>65370</td>\n      <td>EU27_2020</td>\n      <td>HUR</td>\n      <td>WOMEN</td>\n      <td>PC_LF</td>\n      <td>M</td>\n      <td>2021-05</td>\n      <td>7.700000</td>\n      <td>None</td>\n    </tr>\n    <tr>\n      <th>16268</th>\n      <td>65371</td>\n      <td>EU27_2020</td>\n      <td>HUR</td>\n      <td>WOMEN</td>\n      <td>PC_LF</td>\n      <td>M</td>\n      <td>2021-06</td>\n      <td>7.500000</td>\n      <td>None</td>\n    </tr>\n  </tbody>\n</table>\n<p>16269 rows × 9 columns</p>\n</div>"
     },
     "metadata": {},
     "execution_count": 73
    }
   ],
   "source": [
    "redux_unemp_df1"
   ]
  },
  {
   "cell_type": "code",
   "execution_count": 74,
   "metadata": {},
   "outputs": [],
   "source": [
    "query2=\"\"\"select * from unemployment where \"SUBJECT\" = 'TOT'\"\"\"\n",
    "redux_unemp_df2=pd.read_sql_query(query2, con=engine)"
   ]
  },
  {
   "cell_type": "code",
   "execution_count": 75,
   "metadata": {},
   "outputs": [
    {
     "output_type": "execute_result",
     "data": {
      "text/plain": [
       "          id LOCATION INDICATOR SUBJECT MEASURE FREQUENCY     TIME     Value  \\\n",
       "0          0      AUS       HUR     TOT   PC_LF         A     1967   1.87500   \n",
       "1          1      AUS       HUR     TOT   PC_LF         A     1968   1.85000   \n",
       "2          2      AUS       HUR     TOT   PC_LF         A     1969   1.80000   \n",
       "3          3      AUS       HUR     TOT   PC_LF         A     1970   1.62500   \n",
       "4          4      AUS       HUR     TOT   PC_LF         A     1971   1.92500   \n",
       "...      ...      ...       ...     ...     ...       ...      ...       ...   \n",
       "22140  65784      CRI       HUR     TOT   PC_LF         M  2020-12  19.40858   \n",
       "22141  65785      CRI       HUR     TOT   PC_LF         M  2021-01  18.73122   \n",
       "22142  65786      CRI       HUR     TOT   PC_LF         M  2021-02  18.85617   \n",
       "22143  65787      CRI       HUR     TOT   PC_LF         M  2021-03  17.31250   \n",
       "22144  65788      CRI       HUR     TOT   PC_LF         M  2021-04  17.59673   \n",
       "\n",
       "      Flag Codes  \n",
       "0           None  \n",
       "1           None  \n",
       "2           None  \n",
       "3           None  \n",
       "4           None  \n",
       "...          ...  \n",
       "22140       None  \n",
       "22141       None  \n",
       "22142       None  \n",
       "22143       None  \n",
       "22144       None  \n",
       "\n",
       "[22145 rows x 9 columns]"
      ],
      "text/html": "<div>\n<style scoped>\n    .dataframe tbody tr th:only-of-type {\n        vertical-align: middle;\n    }\n\n    .dataframe tbody tr th {\n        vertical-align: top;\n    }\n\n    .dataframe thead th {\n        text-align: right;\n    }\n</style>\n<table border=\"1\" class=\"dataframe\">\n  <thead>\n    <tr style=\"text-align: right;\">\n      <th></th>\n      <th>id</th>\n      <th>LOCATION</th>\n      <th>INDICATOR</th>\n      <th>SUBJECT</th>\n      <th>MEASURE</th>\n      <th>FREQUENCY</th>\n      <th>TIME</th>\n      <th>Value</th>\n      <th>Flag Codes</th>\n    </tr>\n  </thead>\n  <tbody>\n    <tr>\n      <th>0</th>\n      <td>0</td>\n      <td>AUS</td>\n      <td>HUR</td>\n      <td>TOT</td>\n      <td>PC_LF</td>\n      <td>A</td>\n      <td>1967</td>\n      <td>1.87500</td>\n      <td>None</td>\n    </tr>\n    <tr>\n      <th>1</th>\n      <td>1</td>\n      <td>AUS</td>\n      <td>HUR</td>\n      <td>TOT</td>\n      <td>PC_LF</td>\n      <td>A</td>\n      <td>1968</td>\n      <td>1.85000</td>\n      <td>None</td>\n    </tr>\n    <tr>\n      <th>2</th>\n      <td>2</td>\n      <td>AUS</td>\n      <td>HUR</td>\n      <td>TOT</td>\n      <td>PC_LF</td>\n      <td>A</td>\n      <td>1969</td>\n      <td>1.80000</td>\n      <td>None</td>\n    </tr>\n    <tr>\n      <th>3</th>\n      <td>3</td>\n      <td>AUS</td>\n      <td>HUR</td>\n      <td>TOT</td>\n      <td>PC_LF</td>\n      <td>A</td>\n      <td>1970</td>\n      <td>1.62500</td>\n      <td>None</td>\n    </tr>\n    <tr>\n      <th>4</th>\n      <td>4</td>\n      <td>AUS</td>\n      <td>HUR</td>\n      <td>TOT</td>\n      <td>PC_LF</td>\n      <td>A</td>\n      <td>1971</td>\n      <td>1.92500</td>\n      <td>None</td>\n    </tr>\n    <tr>\n      <th>...</th>\n      <td>...</td>\n      <td>...</td>\n      <td>...</td>\n      <td>...</td>\n      <td>...</td>\n      <td>...</td>\n      <td>...</td>\n      <td>...</td>\n      <td>...</td>\n    </tr>\n    <tr>\n      <th>22140</th>\n      <td>65784</td>\n      <td>CRI</td>\n      <td>HUR</td>\n      <td>TOT</td>\n      <td>PC_LF</td>\n      <td>M</td>\n      <td>2020-12</td>\n      <td>19.40858</td>\n      <td>None</td>\n    </tr>\n    <tr>\n      <th>22141</th>\n      <td>65785</td>\n      <td>CRI</td>\n      <td>HUR</td>\n      <td>TOT</td>\n      <td>PC_LF</td>\n      <td>M</td>\n      <td>2021-01</td>\n      <td>18.73122</td>\n      <td>None</td>\n    </tr>\n    <tr>\n      <th>22142</th>\n      <td>65786</td>\n      <td>CRI</td>\n      <td>HUR</td>\n      <td>TOT</td>\n      <td>PC_LF</td>\n      <td>M</td>\n      <td>2021-02</td>\n      <td>18.85617</td>\n      <td>None</td>\n    </tr>\n    <tr>\n      <th>22143</th>\n      <td>65787</td>\n      <td>CRI</td>\n      <td>HUR</td>\n      <td>TOT</td>\n      <td>PC_LF</td>\n      <td>M</td>\n      <td>2021-03</td>\n      <td>17.31250</td>\n      <td>None</td>\n    </tr>\n    <tr>\n      <th>22144</th>\n      <td>65788</td>\n      <td>CRI</td>\n      <td>HUR</td>\n      <td>TOT</td>\n      <td>PC_LF</td>\n      <td>M</td>\n      <td>2021-04</td>\n      <td>17.59673</td>\n      <td>None</td>\n    </tr>\n  </tbody>\n</table>\n<p>22145 rows × 9 columns</p>\n</div>"
     },
     "metadata": {},
     "execution_count": 75
    }
   ],
   "source": [
    "redux_unemp_df2"
   ]
  },
  {
   "cell_type": "code",
   "execution_count": 87,
   "metadata": {},
   "outputs": [],
   "source": [
    "query=\"\"\"select * from unemployment where \"SUBJECT\" = 'TOT' AND (\"LOCATION\" = 'USA' OR \"LOCATION\" = 'CAN' OR \"LOCATION\" = 'CHE' OR \"LOCATION\" = 'DEU' OR \"LOCATION\" = 'JPN' OR \"LOCATION\" = 'KOR' OR \"LOCATION\" = 'EA19' OR \"LOCATION\" = 'EU27_2020')\"\"\"\n",
    "redux_unemp_df=pd.read_sql_query(query, con=engine)\n",
    "# pd.read_sql_query(\"select * from unemployment WHERE \"LOCATION\" = 'USA'\", con=engine).head()"
   ]
  },
  {
   "cell_type": "code",
   "execution_count": 88,
   "metadata": {},
   "outputs": [
    {
     "output_type": "execute_result",
     "data": {
      "text/plain": [
       "         id   LOCATION INDICATOR SUBJECT MEASURE FREQUENCY     TIME     Value  \\\n",
       "0       120        CAN       HUR     TOT   PC_LF         A     1955  4.408333   \n",
       "1       121        CAN       HUR     TOT   PC_LF         A     1956  3.433333   \n",
       "2       122        CAN       HUR     TOT   PC_LF         A     1957  4.650000   \n",
       "3       123        CAN       HUR     TOT   PC_LF         A     1958  7.066667   \n",
       "4       124        CAN       HUR     TOT   PC_LF         A     1959  5.991667   \n",
       "...     ...        ...       ...     ...     ...       ...      ...       ...   \n",
       "5396  21958  EU27_2020       HUR     TOT   PC_LF         M  2021-02  7.500000   \n",
       "5397  21959  EU27_2020       HUR     TOT   PC_LF         M  2021-03  7.400000   \n",
       "5398  21960  EU27_2020       HUR     TOT   PC_LF         M  2021-04  7.500000   \n",
       "5399  21961  EU27_2020       HUR     TOT   PC_LF         M  2021-05  7.300000   \n",
       "5400  21962  EU27_2020       HUR     TOT   PC_LF         M  2021-06  7.100000   \n",
       "\n",
       "     Flag Codes  \n",
       "0          None  \n",
       "1          None  \n",
       "2          None  \n",
       "3          None  \n",
       "4          None  \n",
       "...         ...  \n",
       "5396       None  \n",
       "5397       None  \n",
       "5398       None  \n",
       "5399       None  \n",
       "5400       None  \n",
       "\n",
       "[5401 rows x 9 columns]"
      ],
      "text/html": "<div>\n<style scoped>\n    .dataframe tbody tr th:only-of-type {\n        vertical-align: middle;\n    }\n\n    .dataframe tbody tr th {\n        vertical-align: top;\n    }\n\n    .dataframe thead th {\n        text-align: right;\n    }\n</style>\n<table border=\"1\" class=\"dataframe\">\n  <thead>\n    <tr style=\"text-align: right;\">\n      <th></th>\n      <th>id</th>\n      <th>LOCATION</th>\n      <th>INDICATOR</th>\n      <th>SUBJECT</th>\n      <th>MEASURE</th>\n      <th>FREQUENCY</th>\n      <th>TIME</th>\n      <th>Value</th>\n      <th>Flag Codes</th>\n    </tr>\n  </thead>\n  <tbody>\n    <tr>\n      <th>0</th>\n      <td>120</td>\n      <td>CAN</td>\n      <td>HUR</td>\n      <td>TOT</td>\n      <td>PC_LF</td>\n      <td>A</td>\n      <td>1955</td>\n      <td>4.408333</td>\n      <td>None</td>\n    </tr>\n    <tr>\n      <th>1</th>\n      <td>121</td>\n      <td>CAN</td>\n      <td>HUR</td>\n      <td>TOT</td>\n      <td>PC_LF</td>\n      <td>A</td>\n      <td>1956</td>\n      <td>3.433333</td>\n      <td>None</td>\n    </tr>\n    <tr>\n      <th>2</th>\n      <td>122</td>\n      <td>CAN</td>\n      <td>HUR</td>\n      <td>TOT</td>\n      <td>PC_LF</td>\n      <td>A</td>\n      <td>1957</td>\n      <td>4.650000</td>\n      <td>None</td>\n    </tr>\n    <tr>\n      <th>3</th>\n      <td>123</td>\n      <td>CAN</td>\n      <td>HUR</td>\n      <td>TOT</td>\n      <td>PC_LF</td>\n      <td>A</td>\n      <td>1958</td>\n      <td>7.066667</td>\n      <td>None</td>\n    </tr>\n    <tr>\n      <th>4</th>\n      <td>124</td>\n      <td>CAN</td>\n      <td>HUR</td>\n      <td>TOT</td>\n      <td>PC_LF</td>\n      <td>A</td>\n      <td>1959</td>\n      <td>5.991667</td>\n      <td>None</td>\n    </tr>\n    <tr>\n      <th>...</th>\n      <td>...</td>\n      <td>...</td>\n      <td>...</td>\n      <td>...</td>\n      <td>...</td>\n      <td>...</td>\n      <td>...</td>\n      <td>...</td>\n      <td>...</td>\n    </tr>\n    <tr>\n      <th>5396</th>\n      <td>21958</td>\n      <td>EU27_2020</td>\n      <td>HUR</td>\n      <td>TOT</td>\n      <td>PC_LF</td>\n      <td>M</td>\n      <td>2021-02</td>\n      <td>7.500000</td>\n      <td>None</td>\n    </tr>\n    <tr>\n      <th>5397</th>\n      <td>21959</td>\n      <td>EU27_2020</td>\n      <td>HUR</td>\n      <td>TOT</td>\n      <td>PC_LF</td>\n      <td>M</td>\n      <td>2021-03</td>\n      <td>7.400000</td>\n      <td>None</td>\n    </tr>\n    <tr>\n      <th>5398</th>\n      <td>21960</td>\n      <td>EU27_2020</td>\n      <td>HUR</td>\n      <td>TOT</td>\n      <td>PC_LF</td>\n      <td>M</td>\n      <td>2021-04</td>\n      <td>7.500000</td>\n      <td>None</td>\n    </tr>\n    <tr>\n      <th>5399</th>\n      <td>21961</td>\n      <td>EU27_2020</td>\n      <td>HUR</td>\n      <td>TOT</td>\n      <td>PC_LF</td>\n      <td>M</td>\n      <td>2021-05</td>\n      <td>7.300000</td>\n      <td>None</td>\n    </tr>\n    <tr>\n      <th>5400</th>\n      <td>21962</td>\n      <td>EU27_2020</td>\n      <td>HUR</td>\n      <td>TOT</td>\n      <td>PC_LF</td>\n      <td>M</td>\n      <td>2021-06</td>\n      <td>7.100000</td>\n      <td>None</td>\n    </tr>\n  </tbody>\n</table>\n<p>5401 rows × 9 columns</p>\n</div>"
     },
     "metadata": {},
     "execution_count": 88
    }
   ],
   "source": [
    "redux_unemp_df"
   ]
  },
  {
   "cell_type": "code",
   "execution_count": 94,
   "metadata": {},
   "outputs": [],
   "source": [
    "redux_unemp_df.to_sql(name='redux_unemp', con=engine, if_exists='append', index=False)"
   ]
  },
  {
   "cell_type": "code",
   "execution_count": 22,
   "source": [
    "pd.read_sql_query('select * from indexdata', con=engine).head()"
   ],
   "outputs": [
    {
     "output_type": "execute_result",
     "data": {
      "text/plain": [
       "   id Index        Date        Open        High         Low       Close  \\\n",
       "0   0   NYA  1965-12-31  528.690002  528.690002  528.690002  528.690002   \n",
       "1   1   NYA  1966-01-03  527.210022  527.210022  527.210022  527.210022   \n",
       "2   2   NYA  1966-01-04  527.840027  527.840027  527.840027  527.840027   \n",
       "3   3   NYA  1966-01-05  531.119995  531.119995  531.119995  531.119995   \n",
       "4   4   NYA  1966-01-06  532.070007  532.070007  532.070007  532.070007   \n",
       "\n",
       "    Adj Close  Volume  \n",
       "0  528.690002     0.0  \n",
       "1  527.210022     0.0  \n",
       "2  527.840027     0.0  \n",
       "3  531.119995     0.0  \n",
       "4  532.070007     0.0  "
      ],
      "text/html": "<div>\n<style scoped>\n    .dataframe tbody tr th:only-of-type {\n        vertical-align: middle;\n    }\n\n    .dataframe tbody tr th {\n        vertical-align: top;\n    }\n\n    .dataframe thead th {\n        text-align: right;\n    }\n</style>\n<table border=\"1\" class=\"dataframe\">\n  <thead>\n    <tr style=\"text-align: right;\">\n      <th></th>\n      <th>id</th>\n      <th>Index</th>\n      <th>Date</th>\n      <th>Open</th>\n      <th>High</th>\n      <th>Low</th>\n      <th>Close</th>\n      <th>Adj Close</th>\n      <th>Volume</th>\n    </tr>\n  </thead>\n  <tbody>\n    <tr>\n      <th>0</th>\n      <td>0</td>\n      <td>NYA</td>\n      <td>1965-12-31</td>\n      <td>528.690002</td>\n      <td>528.690002</td>\n      <td>528.690002</td>\n      <td>528.690002</td>\n      <td>528.690002</td>\n      <td>0.0</td>\n    </tr>\n    <tr>\n      <th>1</th>\n      <td>1</td>\n      <td>NYA</td>\n      <td>1966-01-03</td>\n      <td>527.210022</td>\n      <td>527.210022</td>\n      <td>527.210022</td>\n      <td>527.210022</td>\n      <td>527.210022</td>\n      <td>0.0</td>\n    </tr>\n    <tr>\n      <th>2</th>\n      <td>2</td>\n      <td>NYA</td>\n      <td>1966-01-04</td>\n      <td>527.840027</td>\n      <td>527.840027</td>\n      <td>527.840027</td>\n      <td>527.840027</td>\n      <td>527.840027</td>\n      <td>0.0</td>\n    </tr>\n    <tr>\n      <th>3</th>\n      <td>3</td>\n      <td>NYA</td>\n      <td>1966-01-05</td>\n      <td>531.119995</td>\n      <td>531.119995</td>\n      <td>531.119995</td>\n      <td>531.119995</td>\n      <td>531.119995</td>\n      <td>0.0</td>\n    </tr>\n    <tr>\n      <th>4</th>\n      <td>4</td>\n      <td>NYA</td>\n      <td>1966-01-06</td>\n      <td>532.070007</td>\n      <td>532.070007</td>\n      <td>532.070007</td>\n      <td>532.070007</td>\n      <td>532.070007</td>\n      <td>0.0</td>\n    </tr>\n  </tbody>\n</table>\n</div>"
     },
     "metadata": {},
     "execution_count": 22
    }
   ],
   "metadata": {}
  },
  {
   "cell_type": "code",
   "execution_count": null,
   "metadata": {},
   "outputs": [],
   "source": []
  }
 ],
 "metadata": {
  "orig_nbformat": 4,
  "language_info": {
   "name": "python",
   "version": "3.8.5",
   "mimetype": "text/x-python",
   "codemirror_mode": {
    "name": "ipython",
    "version": 3
   },
   "pygments_lexer": "ipython3",
   "nbconvert_exporter": "python",
   "file_extension": ".py"
  },
  "kernelspec": {
   "name": "python3",
   "display_name": "Python 3.8.5 64-bit ('base': conda)"
  },
  "interpreter": {
   "hash": "b21e3d5b84fd32b1c294a5ef697010f168da096a737190285455488f8a9651c5"
  }
 },
 "nbformat": 4,
 "nbformat_minor": 2
}