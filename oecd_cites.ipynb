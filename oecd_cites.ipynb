{
 "cells": [
  {
   "cell_type": "code",
   "execution_count": null,
   "source": [
    "# https://data.oecd.org/lprdty/labour-compensation-per-hour-worked.htm\n",
    "# OECD (2021), Labour compensation per hour worked (indicator). doi: 10.1787/251ec2da-en (Accessed on 06 August 2021)\n",
    "# DP_LIVE_07082021005554997.csv\n",
    "# Definition of Labour compensation per hour worked\n",
    "# Labour compensation per hour worked is defined as compensation of employees in national currency divided \n",
    "# by total hours worked by employees. Compensation of employees is the sum of gross wages and salaries and \n",
    "# employers' social security contributions. This indicator is measured in terms of annual growth rates and \n",
    "# indices."
   ],
   "outputs": [],
   "metadata": {}
  },
  {
   "cell_type": "code",
   "execution_count": null,
   "source": [
    "# https://data.oecd.org/earnwage/wage-levels.htm\n",
    "# OECD (2021), Wage levels (indicator). doi: 10.1787/0a1c27bc-en (Accessed on 06 August 2021)\n",
    "# DP_LIVE_07082021011312290.csv\n",
    "# Definition of Wage levels\n",
    "# Wage levels are divided by low pay and high pay. \n",
    "# The incidence of low pay refers to the share of workers earning less than two-thirds of median earnings. \n",
    "# The incidence of high pay refers to the share of workers earning more than one-and-a-half time median earnings. \n",
    "# Data refer to full-time employees.This indicator is measured in percentages."
   ],
   "outputs": [],
   "metadata": {}
  },
  {
   "cell_type": "code",
   "execution_count": null,
   "source": [
    "# https://data.oecd.org/emp/hours-worked.htm#indicator-chart\n",
    "# OECD (2021), Hours worked (indicator). doi: 10.1787/47be1c78-en (Accessed on 06 August 2021)\n",
    "# DP_LIVE_07082021011835744.csv\n",
    "# Definition of Hours worked\n",
    "# Average annual hours worked is defined as the total number of hours actually worked per year \n",
    "# divided by the average number of people in employment per year. \n",
    "# Actual hours worked include regular work hours of full-time, part-time and part-year workers, \n",
    "# paid and unpaid overtime, hours worked in additional jobs, and exclude time not worked \n",
    "# because of public holidays, annual paid leave, own illness, injury and temporary disability, \n",
    "# maternity leave, parental leave, schooling or training, slack work for technical or economic reasons, \n",
    "# strike or labour dispute, bad weather, compensation leave and other reasons. The data cover employees \n",
    "# and self-employed workers. This indicator is measured in terms of hours per worker per year. \n",
    "# The data are published with the following health warning: The data are intended for comparisons of \n",
    "# trends over time; they are unsuitable for comparisons of the level of average annual hours of work \n",
    "# for a given year, because of differences in their sources and method of calculation."
   ],
   "outputs": [],
   "metadata": {}
  },
  {
   "cell_type": "code",
   "execution_count": null,
   "source": [
    "# https://data.oecd.org/earnwage/average-wages.htm#indicator-chart\n",
    "# OECD (2021), Average wages (indicator). doi: 10.1787/cc3e1387-en (Accessed on 06 August 2021)\n",
    "# DP_LIVE_07082021012450072.csv\n",
    "# Definition of Average wages\n",
    "# Average wages are obtained by dividing the national-accounts-based total wage bill by the average number \n",
    "# of employees in the total economy, which is then multiplied by the ratio of the average usual weekly hours \n",
    "# per full-time employee to the average usually weekly hours for all employees. This indicator is measured \n",
    "# in USD constant prices using 2016 base year and Purchasing Power Parities (PPPs) for private consumption \n",
    "# of the same year."
   ],
   "outputs": [],
   "metadata": {}
  },
  {
   "cell_type": "code",
   "execution_count": null,
   "source": [
    "# https://data.oecd.org/unemp/unemployment-rate.htm\n",
    "# OECD (2021), Unemployment rate (indicator). doi: 10.1787/52570002-en (Accessed on 05 August 2021)\n",
    "# DP_LIVE_07082021015955813.csv\n",
    "# Definition of Unemployment rate\n",
    "# The unemployed are people of working age who are without work, are available for work, and have taken \n",
    "# specific steps to find work. The uniform application of this definition results in estimates of \n",
    "# unemployment rates that are more internationally comparable than estimates based on national definitions \n",
    "# of unemployment. This indicator is measured in numbers of unemployed people as a percentage of the labour \n",
    "# force and it is seasonally adjusted. The labour force is defined as the total number of unemployed people \n",
    "# plus those in employment. Data are based on labour force surveys (LFS).  For European Union countries where \n",
    "# monthly LFS information is not available, the monthly unemployed figures are estimated by Eurostat."
   ],
   "outputs": [],
   "metadata": {}
  }
 ],
 "metadata": {
  "orig_nbformat": 4,
  "language_info": {
   "name": "python"
  }
 },
 "nbformat": 4,
 "nbformat_minor": 2
}