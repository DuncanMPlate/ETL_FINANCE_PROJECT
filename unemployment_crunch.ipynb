{
 "cells": [
  {
   "cell_type": "code",
   "execution_count": 1,
   "source": [
    "import pandas as pd\n",
    "from sqlalchemy import create_engine \n",
    "from sqlalchemy.orm import Session"
   ],
   "outputs": [],
   "metadata": {}
  },
  {
   "cell_type": "code",
   "execution_count": null,
   "metadata": {},
   "outputs": [],
   "source": [
    "# Updated reference for unemployment data:\n",
    "# OECD (2021), Unemployment rate (indicator). doi: 10.1787/52570002-en (Accessed on 07 August 2021)\n",
    "# Definition of Unemployment rate\n",
    "# The unemployed are people of working age who are without work, are available for work, and have taken specific steps to find work. The uniform application of this definition results in estimates of unemployment rates that are more internationally comparable than estimates based on national definitions of unemployment. This indicator is measured in numbers of unemployed people as a percentage of the labour force and it is seasonally adjusted. The labour force is defined as the total number of unemployed people plus those in employment. Data are based on labour force surveys (LFS).  For European Union countries where monthly LFS information is not available, the monthly unemployed figures are estimated by Eurostat."
   ]
  },
  {
   "cell_type": "code",
   "execution_count": 7,
   "source": [
    "csv_file_unemp =\"../group_project_2_copy/Resources/unemployment.csv\"\n",
    "unemployment_df= pd.read_csv(csv_file_unemp)\n",
    "unemployment_df.head()"
   ],
   "outputs": [
    {
     "output_type": "execute_result",
     "data": {
      "text/plain": [
       "  LOCATION INDICATOR SUBJECT MEASURE FREQUENCY  TIME  Value Flag Codes\n",
       "0      AUS       HUR     TOT   PC_LF         A  1967  1.875        NaN\n",
       "1      AUS       HUR     TOT   PC_LF         A  1968  1.850        NaN\n",
       "2      AUS       HUR     TOT   PC_LF         A  1969  1.800        NaN\n",
       "3      AUS       HUR     TOT   PC_LF         A  1970  1.625        NaN\n",
       "4      AUS       HUR     TOT   PC_LF         A  1971  1.925        NaN"
      ],
      "text/html": "<div>\n<style scoped>\n    .dataframe tbody tr th:only-of-type {\n        vertical-align: middle;\n    }\n\n    .dataframe tbody tr th {\n        vertical-align: top;\n    }\n\n    .dataframe thead th {\n        text-align: right;\n    }\n</style>\n<table border=\"1\" class=\"dataframe\">\n  <thead>\n    <tr style=\"text-align: right;\">\n      <th></th>\n      <th>LOCATION</th>\n      <th>INDICATOR</th>\n      <th>SUBJECT</th>\n      <th>MEASURE</th>\n      <th>FREQUENCY</th>\n      <th>TIME</th>\n      <th>Value</th>\n      <th>Flag Codes</th>\n    </tr>\n  </thead>\n  <tbody>\n    <tr>\n      <th>0</th>\n      <td>AUS</td>\n      <td>HUR</td>\n      <td>TOT</td>\n      <td>PC_LF</td>\n      <td>A</td>\n      <td>1967</td>\n      <td>1.875</td>\n      <td>NaN</td>\n    </tr>\n    <tr>\n      <th>1</th>\n      <td>AUS</td>\n      <td>HUR</td>\n      <td>TOT</td>\n      <td>PC_LF</td>\n      <td>A</td>\n      <td>1968</td>\n      <td>1.850</td>\n      <td>NaN</td>\n    </tr>\n    <tr>\n      <th>2</th>\n      <td>AUS</td>\n      <td>HUR</td>\n      <td>TOT</td>\n      <td>PC_LF</td>\n      <td>A</td>\n      <td>1969</td>\n      <td>1.800</td>\n      <td>NaN</td>\n    </tr>\n    <tr>\n      <th>3</th>\n      <td>AUS</td>\n      <td>HUR</td>\n      <td>TOT</td>\n      <td>PC_LF</td>\n      <td>A</td>\n      <td>1970</td>\n      <td>1.625</td>\n      <td>NaN</td>\n    </tr>\n    <tr>\n      <th>4</th>\n      <td>AUS</td>\n      <td>HUR</td>\n      <td>TOT</td>\n      <td>PC_LF</td>\n      <td>A</td>\n      <td>1971</td>\n      <td>1.925</td>\n      <td>NaN</td>\n    </tr>\n  </tbody>\n</table>\n</div>"
     },
     "metadata": {},
     "execution_count": 7
    }
   ],
   "metadata": {}
  },
  {
   "cell_type": "code",
   "execution_count": null,
   "metadata": {},
   "outputs": [],
   "source": [
    "# https://data.oecd.org/emp/employment-rate.htm\n",
    "## OECD (2021), Employment rate (indicator). doi: 10.1787/1de68a9b-en (Accessed on 07 August 2021)\n",
    "# Definition of Employment rate\n",
    "# Employment rates are defined as a measure of the extent to which available labour resources (people available to work) are being used. They are calculated as the ratio of the employed to the working age population. Employment rates are sensitive to the economic cycle, but in the longer term they are significantly affected by governments' higher education and income support policies and by policies that facilitate employment of women and disadvantaged groups. Employed people are those aged 15 or over who report that they have worked in gainful employment for at least one hour in the previous week or who had a job but were absent from work during the reference week. The working age population refers to people aged 15 to 64. This indicator is seasonally adjusted and it is measured in terms of thousand persons aged 15 and over; and in numbers of employed persons aged 15 to 64 as a percentage of working age population."
   ]
  },
  {
   "source": [
    "csv_file_emp =\"../group_project_2_copy/Resources/employment.csv\"\n",
    "employment_df= pd.read_csv(csv_file_emp)\n",
    "employment_df.head()"
   ],
   "cell_type": "code",
   "metadata": {},
   "execution_count": 12,
   "outputs": [
    {
     "output_type": "execute_result",
     "data": {
      "text/plain": [
       "  LOCATION INDICATOR SUBJECT    MEASURE FREQUENCY  TIME     Value Flag Codes\n",
       "0      AUS       EMP     TOT  PC_WKGPOP         A  1979  64.38335        NaN\n",
       "1      AUS       EMP     TOT  PC_WKGPOP         A  1980  65.17445        NaN\n",
       "2      AUS       EMP     TOT  PC_WKGPOP         A  1981  65.36742        NaN\n",
       "3      AUS       EMP     TOT  PC_WKGPOP         A  1982  64.16441        NaN\n",
       "4      AUS       EMP     TOT  PC_WKGPOP         A  1983  61.94022        NaN"
      ],
      "text/html": "<div>\n<style scoped>\n    .dataframe tbody tr th:only-of-type {\n        vertical-align: middle;\n    }\n\n    .dataframe tbody tr th {\n        vertical-align: top;\n    }\n\n    .dataframe thead th {\n        text-align: right;\n    }\n</style>\n<table border=\"1\" class=\"dataframe\">\n  <thead>\n    <tr style=\"text-align: right;\">\n      <th></th>\n      <th>LOCATION</th>\n      <th>INDICATOR</th>\n      <th>SUBJECT</th>\n      <th>MEASURE</th>\n      <th>FREQUENCY</th>\n      <th>TIME</th>\n      <th>Value</th>\n      <th>Flag Codes</th>\n    </tr>\n  </thead>\n  <tbody>\n    <tr>\n      <th>0</th>\n      <td>AUS</td>\n      <td>EMP</td>\n      <td>TOT</td>\n      <td>PC_WKGPOP</td>\n      <td>A</td>\n      <td>1979</td>\n      <td>64.38335</td>\n      <td>NaN</td>\n    </tr>\n    <tr>\n      <th>1</th>\n      <td>AUS</td>\n      <td>EMP</td>\n      <td>TOT</td>\n      <td>PC_WKGPOP</td>\n      <td>A</td>\n      <td>1980</td>\n      <td>65.17445</td>\n      <td>NaN</td>\n    </tr>\n    <tr>\n      <th>2</th>\n      <td>AUS</td>\n      <td>EMP</td>\n      <td>TOT</td>\n      <td>PC_WKGPOP</td>\n      <td>A</td>\n      <td>1981</td>\n      <td>65.36742</td>\n      <td>NaN</td>\n    </tr>\n    <tr>\n      <th>3</th>\n      <td>AUS</td>\n      <td>EMP</td>\n      <td>TOT</td>\n      <td>PC_WKGPOP</td>\n      <td>A</td>\n      <td>1982</td>\n      <td>64.16441</td>\n      <td>NaN</td>\n    </tr>\n    <tr>\n      <th>4</th>\n      <td>AUS</td>\n      <td>EMP</td>\n      <td>TOT</td>\n      <td>PC_WKGPOP</td>\n      <td>A</td>\n      <td>1983</td>\n      <td>61.94022</td>\n      <td>NaN</td>\n    </tr>\n  </tbody>\n</table>\n</div>"
     },
     "metadata": {},
     "execution_count": 12
    }
   ]
  },
  {
   "cell_type": "code",
   "execution_count": 10,
   "source": [
    "rds_connection_string = \"postgres:Class123@localhost:5432/stock_exchange\"\n",
    "engine = create_engine(f'postgresql://{rds_connection_string}')"
   ],
   "outputs": [],
   "metadata": {}
  },
  {
   "cell_type": "code",
   "execution_count": 11,
   "source": [
    "engine.table_names()"
   ],
   "outputs": [
    {
     "output_type": "execute_result",
     "data": {
      "text/plain": [
       "['indexinfo', 'indexdata', 'redux_unemp']"
      ]
     },
     "metadata": {},
     "execution_count": 11
    }
   ],
   "metadata": {}
  },
  {
   "cell_type": "code",
   "execution_count": 14,
   "source": [
    "unemployment_raw_df.to_sql(name='raw_unemployment', con=engine, if_exists='append', index=True,index_label='id')"
   ],
   "outputs": [],
   "metadata": {}
  },
  {
   "source": [
    "employment_raw_df.to_sql(name='raw_employment', con=engine, if_exists='append', index=True, index_label='id')"
   ],
   "cell_type": "code",
   "metadata": {},
   "execution_count": 16,
   "outputs": []
  },
  {
   "cell_type": "code",
   "execution_count": 17,
   "metadata": {},
   "outputs": [
    {
     "output_type": "execute_result",
     "data": {
      "text/plain": [
       "   id LOCATION INDICATOR SUBJECT MEASURE FREQUENCY  TIME  Value Flag Codes\n",
       "0   0      AUS       HUR     TOT   PC_LF         A  1967  1.875       None\n",
       "1   1      AUS       HUR     TOT   PC_LF         A  1968  1.850       None\n",
       "2   2      AUS       HUR     TOT   PC_LF         A  1969  1.800       None\n",
       "3   3      AUS       HUR     TOT   PC_LF         A  1970  1.625       None\n",
       "4   4      AUS       HUR     TOT   PC_LF         A  1971  1.925       None"
      ],
      "text/html": "<div>\n<style scoped>\n    .dataframe tbody tr th:only-of-type {\n        vertical-align: middle;\n    }\n\n    .dataframe tbody tr th {\n        vertical-align: top;\n    }\n\n    .dataframe thead th {\n        text-align: right;\n    }\n</style>\n<table border=\"1\" class=\"dataframe\">\n  <thead>\n    <tr style=\"text-align: right;\">\n      <th></th>\n      <th>id</th>\n      <th>LOCATION</th>\n      <th>INDICATOR</th>\n      <th>SUBJECT</th>\n      <th>MEASURE</th>\n      <th>FREQUENCY</th>\n      <th>TIME</th>\n      <th>Value</th>\n      <th>Flag Codes</th>\n    </tr>\n  </thead>\n  <tbody>\n    <tr>\n      <th>0</th>\n      <td>0</td>\n      <td>AUS</td>\n      <td>HUR</td>\n      <td>TOT</td>\n      <td>PC_LF</td>\n      <td>A</td>\n      <td>1967</td>\n      <td>1.875</td>\n      <td>None</td>\n    </tr>\n    <tr>\n      <th>1</th>\n      <td>1</td>\n      <td>AUS</td>\n      <td>HUR</td>\n      <td>TOT</td>\n      <td>PC_LF</td>\n      <td>A</td>\n      <td>1968</td>\n      <td>1.850</td>\n      <td>None</td>\n    </tr>\n    <tr>\n      <th>2</th>\n      <td>2</td>\n      <td>AUS</td>\n      <td>HUR</td>\n      <td>TOT</td>\n      <td>PC_LF</td>\n      <td>A</td>\n      <td>1969</td>\n      <td>1.800</td>\n      <td>None</td>\n    </tr>\n    <tr>\n      <th>3</th>\n      <td>3</td>\n      <td>AUS</td>\n      <td>HUR</td>\n      <td>TOT</td>\n      <td>PC_LF</td>\n      <td>A</td>\n      <td>1970</td>\n      <td>1.625</td>\n      <td>None</td>\n    </tr>\n    <tr>\n      <th>4</th>\n      <td>4</td>\n      <td>AUS</td>\n      <td>HUR</td>\n      <td>TOT</td>\n      <td>PC_LF</td>\n      <td>A</td>\n      <td>1971</td>\n      <td>1.925</td>\n      <td>None</td>\n    </tr>\n  </tbody>\n</table>\n</div>"
     },
     "metadata": {},
     "execution_count": 17
    }
   ],
   "source": [
    "pd.read_sql_query(f'select * from raw_unemployment', con=engine).head()"
   ]
  },
  {
   "cell_type": "code",
   "execution_count": 18,
   "metadata": {},
   "outputs": [
    {
     "output_type": "execute_result",
     "data": {
      "text/plain": [
       "   id LOCATION INDICATOR SUBJECT    MEASURE FREQUENCY  TIME     Value  \\\n",
       "0   0      AUS       EMP     TOT  PC_WKGPOP         A  1979  64.38335   \n",
       "1   1      AUS       EMP     TOT  PC_WKGPOP         A  1980  65.17445   \n",
       "2   2      AUS       EMP     TOT  PC_WKGPOP         A  1981  65.36742   \n",
       "3   3      AUS       EMP     TOT  PC_WKGPOP         A  1982  64.16441   \n",
       "4   4      AUS       EMP     TOT  PC_WKGPOP         A  1983  61.94022   \n",
       "\n",
       "  Flag Codes  \n",
       "0       None  \n",
       "1       None  \n",
       "2       None  \n",
       "3       None  \n",
       "4       None  "
      ],
      "text/html": "<div>\n<style scoped>\n    .dataframe tbody tr th:only-of-type {\n        vertical-align: middle;\n    }\n\n    .dataframe tbody tr th {\n        vertical-align: top;\n    }\n\n    .dataframe thead th {\n        text-align: right;\n    }\n</style>\n<table border=\"1\" class=\"dataframe\">\n  <thead>\n    <tr style=\"text-align: right;\">\n      <th></th>\n      <th>id</th>\n      <th>LOCATION</th>\n      <th>INDICATOR</th>\n      <th>SUBJECT</th>\n      <th>MEASURE</th>\n      <th>FREQUENCY</th>\n      <th>TIME</th>\n      <th>Value</th>\n      <th>Flag Codes</th>\n    </tr>\n  </thead>\n  <tbody>\n    <tr>\n      <th>0</th>\n      <td>0</td>\n      <td>AUS</td>\n      <td>EMP</td>\n      <td>TOT</td>\n      <td>PC_WKGPOP</td>\n      <td>A</td>\n      <td>1979</td>\n      <td>64.38335</td>\n      <td>None</td>\n    </tr>\n    <tr>\n      <th>1</th>\n      <td>1</td>\n      <td>AUS</td>\n      <td>EMP</td>\n      <td>TOT</td>\n      <td>PC_WKGPOP</td>\n      <td>A</td>\n      <td>1980</td>\n      <td>65.17445</td>\n      <td>None</td>\n    </tr>\n    <tr>\n      <th>2</th>\n      <td>2</td>\n      <td>AUS</td>\n      <td>EMP</td>\n      <td>TOT</td>\n      <td>PC_WKGPOP</td>\n      <td>A</td>\n      <td>1981</td>\n      <td>65.36742</td>\n      <td>None</td>\n    </tr>\n    <tr>\n      <th>3</th>\n      <td>3</td>\n      <td>AUS</td>\n      <td>EMP</td>\n      <td>TOT</td>\n      <td>PC_WKGPOP</td>\n      <td>A</td>\n      <td>1982</td>\n      <td>64.16441</td>\n      <td>None</td>\n    </tr>\n    <tr>\n      <th>4</th>\n      <td>4</td>\n      <td>AUS</td>\n      <td>EMP</td>\n      <td>TOT</td>\n      <td>PC_WKGPOP</td>\n      <td>A</td>\n      <td>1983</td>\n      <td>61.94022</td>\n      <td>None</td>\n    </tr>\n  </tbody>\n</table>\n</div>"
     },
     "metadata": {},
     "execution_count": 18
    }
   ],
   "source": [
    "pd.read_sql_query(f'select * from raw_employment', con=engine).head()"
   ]
  },
  {
   "cell_type": "code",
   "execution_count": 31,
   "metadata": {},
   "outputs": [],
   "source": [
    "# removing countries that do not have possible stock exchange ties (e.g., Australia & New Zealand)\n",
    "query=\"\"\"select * from raw_unemployment where \"LOCATION\" <> 'AUS' OR \"LOCATION\" <> 'CHL' OR \"LOCATION\" <> 'COL' OR \"LOCATION\" <> 'CRI' OR \"LOCATION\" <> 'ISR' OR \"LOCATION\" <> 'MEX' OR \"LOCATION\" <> 'NZL'\"\"\"\n",
    "redux_unemp_df=pd.read_sql_query(query, con=engine)"
   ]
  },
  {
   "cell_type": "code",
   "execution_count": 32,
   "metadata": {},
   "outputs": [
    {
     "output_type": "execute_result",
     "data": {
      "text/plain": [
       "        id LOCATION INDICATOR SUBJECT MEASURE FREQUENCY  TIME      Value  \\\n",
       "0        0      AUS       HUR     TOT   PC_LF         A  1967   1.875000   \n",
       "1        1      AUS       HUR     TOT   PC_LF         A  1968   1.850000   \n",
       "2        2      AUS       HUR     TOT   PC_LF         A  1969   1.800000   \n",
       "3        3      AUS       HUR     TOT   PC_LF         A  1970   1.625000   \n",
       "4        4      AUS       HUR     TOT   PC_LF         A  1971   1.925000   \n",
       "...    ...      ...       ...     ...     ...       ...   ...        ...   \n",
       "1315  1315      CRI       HUR     TOT   PC_LF         A  2015   9.606182   \n",
       "1316  1316      CRI       HUR     TOT   PC_LF         A  2016   9.472075   \n",
       "1317  1317      CRI       HUR     TOT   PC_LF         A  2017   9.174437   \n",
       "1318  1318      CRI       HUR     TOT   PC_LF         A  2018  10.178950   \n",
       "1319  1319      CRI       HUR     TOT   PC_LF         A  2019  11.771500   \n",
       "\n",
       "     Flag Codes  \n",
       "0          None  \n",
       "1          None  \n",
       "2          None  \n",
       "3          None  \n",
       "4          None  \n",
       "...         ...  \n",
       "1315       None  \n",
       "1316       None  \n",
       "1317       None  \n",
       "1318       None  \n",
       "1319       None  \n",
       "\n",
       "[1320 rows x 9 columns]"
      ],
      "text/html": "<div>\n<style scoped>\n    .dataframe tbody tr th:only-of-type {\n        vertical-align: middle;\n    }\n\n    .dataframe tbody tr th {\n        vertical-align: top;\n    }\n\n    .dataframe thead th {\n        text-align: right;\n    }\n</style>\n<table border=\"1\" class=\"dataframe\">\n  <thead>\n    <tr style=\"text-align: right;\">\n      <th></th>\n      <th>id</th>\n      <th>LOCATION</th>\n      <th>INDICATOR</th>\n      <th>SUBJECT</th>\n      <th>MEASURE</th>\n      <th>FREQUENCY</th>\n      <th>TIME</th>\n      <th>Value</th>\n      <th>Flag Codes</th>\n    </tr>\n  </thead>\n  <tbody>\n    <tr>\n      <th>0</th>\n      <td>0</td>\n      <td>AUS</td>\n      <td>HUR</td>\n      <td>TOT</td>\n      <td>PC_LF</td>\n      <td>A</td>\n      <td>1967</td>\n      <td>1.875000</td>\n      <td>None</td>\n    </tr>\n    <tr>\n      <th>1</th>\n      <td>1</td>\n      <td>AUS</td>\n      <td>HUR</td>\n      <td>TOT</td>\n      <td>PC_LF</td>\n      <td>A</td>\n      <td>1968</td>\n      <td>1.850000</td>\n      <td>None</td>\n    </tr>\n    <tr>\n      <th>2</th>\n      <td>2</td>\n      <td>AUS</td>\n      <td>HUR</td>\n      <td>TOT</td>\n      <td>PC_LF</td>\n      <td>A</td>\n      <td>1969</td>\n      <td>1.800000</td>\n      <td>None</td>\n    </tr>\n    <tr>\n      <th>3</th>\n      <td>3</td>\n      <td>AUS</td>\n      <td>HUR</td>\n      <td>TOT</td>\n      <td>PC_LF</td>\n      <td>A</td>\n      <td>1970</td>\n      <td>1.625000</td>\n      <td>None</td>\n    </tr>\n    <tr>\n      <th>4</th>\n      <td>4</td>\n      <td>AUS</td>\n      <td>HUR</td>\n      <td>TOT</td>\n      <td>PC_LF</td>\n      <td>A</td>\n      <td>1971</td>\n      <td>1.925000</td>\n      <td>None</td>\n    </tr>\n    <tr>\n      <th>...</th>\n      <td>...</td>\n      <td>...</td>\n      <td>...</td>\n      <td>...</td>\n      <td>...</td>\n      <td>...</td>\n      <td>...</td>\n      <td>...</td>\n      <td>...</td>\n    </tr>\n    <tr>\n      <th>1315</th>\n      <td>1315</td>\n      <td>CRI</td>\n      <td>HUR</td>\n      <td>TOT</td>\n      <td>PC_LF</td>\n      <td>A</td>\n      <td>2015</td>\n      <td>9.606182</td>\n      <td>None</td>\n    </tr>\n    <tr>\n      <th>1316</th>\n      <td>1316</td>\n      <td>CRI</td>\n      <td>HUR</td>\n      <td>TOT</td>\n      <td>PC_LF</td>\n      <td>A</td>\n      <td>2016</td>\n      <td>9.472075</td>\n      <td>None</td>\n    </tr>\n    <tr>\n      <th>1317</th>\n      <td>1317</td>\n      <td>CRI</td>\n      <td>HUR</td>\n      <td>TOT</td>\n      <td>PC_LF</td>\n      <td>A</td>\n      <td>2017</td>\n      <td>9.174437</td>\n      <td>None</td>\n    </tr>\n    <tr>\n      <th>1318</th>\n      <td>1318</td>\n      <td>CRI</td>\n      <td>HUR</td>\n      <td>TOT</td>\n      <td>PC_LF</td>\n      <td>A</td>\n      <td>2018</td>\n      <td>10.178950</td>\n      <td>None</td>\n    </tr>\n    <tr>\n      <th>1319</th>\n      <td>1319</td>\n      <td>CRI</td>\n      <td>HUR</td>\n      <td>TOT</td>\n      <td>PC_LF</td>\n      <td>A</td>\n      <td>2019</td>\n      <td>11.771500</td>\n      <td>None</td>\n    </tr>\n  </tbody>\n</table>\n<p>1320 rows × 9 columns</p>\n</div>"
     },
     "metadata": {},
     "execution_count": 32
    }
   ],
   "source": [
    "redux_unemp_df"
   ]
  },
  {
   "cell_type": "code",
   "execution_count": 33,
   "metadata": {},
   "outputs": [],
   "source": [
    "# keeping the countries relevant to our stock exchanges\n",
    "query1=\"\"\"select * from unemployment where \"LOCATION\" = 'USA' OR \"LOCATION\" = 'CAN' OR \"LOCATION\" = 'CHE' OR \"LOCATION\" = 'DEU' OR \"LOCATION\" = 'JPN' OR \"LOCATION\" = 'KOR' OR \"LOCATION\" = 'EA19' OR \"LOCATION\" = 'EU27_2020'\"\"\"\n",
    "redux_unemp_df=pd.read_sql_query(query1, con=engine)"
   ]
  },
  {
   "cell_type": "code",
   "execution_count": 34,
   "metadata": {},
   "outputs": [
    {
     "output_type": "execute_result",
     "data": {
      "text/plain": [
       "       id   LOCATION INDICATOR SUBJECT MEASURE FREQUENCY  TIME      Value  \\\n",
       "0     117        CAN       HUR     TOT   PC_LF         A  1955   4.408333   \n",
       "1     118        CAN       HUR     TOT   PC_LF         A  1956   3.433333   \n",
       "2     119        CAN       HUR     TOT   PC_LF         A  1957   4.650000   \n",
       "3     120        CAN       HUR     TOT   PC_LF         A  1958   7.066667   \n",
       "4     121        CAN       HUR     TOT   PC_LF         A  1959   5.991667   \n",
       "..    ...        ...       ...     ...     ...       ...   ...        ...   \n",
       "309  1306  EU27_2020       HUR     TOT   PC_LF         A  2015  10.075000   \n",
       "310  1307  EU27_2020       HUR     TOT   PC_LF         A  2016   9.175000   \n",
       "311  1308  EU27_2020       HUR     TOT   PC_LF         A  2017   8.175000   \n",
       "312  1309  EU27_2020       HUR     TOT   PC_LF         A  2018   7.300000   \n",
       "313  1310  EU27_2020       HUR     TOT   PC_LF         A  2019   6.733333   \n",
       "\n",
       "    Flag Codes  \n",
       "0         None  \n",
       "1         None  \n",
       "2         None  \n",
       "3         None  \n",
       "4         None  \n",
       "..         ...  \n",
       "309       None  \n",
       "310       None  \n",
       "311       None  \n",
       "312       None  \n",
       "313       None  \n",
       "\n",
       "[314 rows x 9 columns]"
      ],
      "text/html": "<div>\n<style scoped>\n    .dataframe tbody tr th:only-of-type {\n        vertical-align: middle;\n    }\n\n    .dataframe tbody tr th {\n        vertical-align: top;\n    }\n\n    .dataframe thead th {\n        text-align: right;\n    }\n</style>\n<table border=\"1\" class=\"dataframe\">\n  <thead>\n    <tr style=\"text-align: right;\">\n      <th></th>\n      <th>id</th>\n      <th>LOCATION</th>\n      <th>INDICATOR</th>\n      <th>SUBJECT</th>\n      <th>MEASURE</th>\n      <th>FREQUENCY</th>\n      <th>TIME</th>\n      <th>Value</th>\n      <th>Flag Codes</th>\n    </tr>\n  </thead>\n  <tbody>\n    <tr>\n      <th>0</th>\n      <td>117</td>\n      <td>CAN</td>\n      <td>HUR</td>\n      <td>TOT</td>\n      <td>PC_LF</td>\n      <td>A</td>\n      <td>1955</td>\n      <td>4.408333</td>\n      <td>None</td>\n    </tr>\n    <tr>\n      <th>1</th>\n      <td>118</td>\n      <td>CAN</td>\n      <td>HUR</td>\n      <td>TOT</td>\n      <td>PC_LF</td>\n      <td>A</td>\n      <td>1956</td>\n      <td>3.433333</td>\n      <td>None</td>\n    </tr>\n    <tr>\n      <th>2</th>\n      <td>119</td>\n      <td>CAN</td>\n      <td>HUR</td>\n      <td>TOT</td>\n      <td>PC_LF</td>\n      <td>A</td>\n      <td>1957</td>\n      <td>4.650000</td>\n      <td>None</td>\n    </tr>\n    <tr>\n      <th>3</th>\n      <td>120</td>\n      <td>CAN</td>\n      <td>HUR</td>\n      <td>TOT</td>\n      <td>PC_LF</td>\n      <td>A</td>\n      <td>1958</td>\n      <td>7.066667</td>\n      <td>None</td>\n    </tr>\n    <tr>\n      <th>4</th>\n      <td>121</td>\n      <td>CAN</td>\n      <td>HUR</td>\n      <td>TOT</td>\n      <td>PC_LF</td>\n      <td>A</td>\n      <td>1959</td>\n      <td>5.991667</td>\n      <td>None</td>\n    </tr>\n    <tr>\n      <th>...</th>\n      <td>...</td>\n      <td>...</td>\n      <td>...</td>\n      <td>...</td>\n      <td>...</td>\n      <td>...</td>\n      <td>...</td>\n      <td>...</td>\n      <td>...</td>\n    </tr>\n    <tr>\n      <th>309</th>\n      <td>1306</td>\n      <td>EU27_2020</td>\n      <td>HUR</td>\n      <td>TOT</td>\n      <td>PC_LF</td>\n      <td>A</td>\n      <td>2015</td>\n      <td>10.075000</td>\n      <td>None</td>\n    </tr>\n    <tr>\n      <th>310</th>\n      <td>1307</td>\n      <td>EU27_2020</td>\n      <td>HUR</td>\n      <td>TOT</td>\n      <td>PC_LF</td>\n      <td>A</td>\n      <td>2016</td>\n      <td>9.175000</td>\n      <td>None</td>\n    </tr>\n    <tr>\n      <th>311</th>\n      <td>1308</td>\n      <td>EU27_2020</td>\n      <td>HUR</td>\n      <td>TOT</td>\n      <td>PC_LF</td>\n      <td>A</td>\n      <td>2017</td>\n      <td>8.175000</td>\n      <td>None</td>\n    </tr>\n    <tr>\n      <th>312</th>\n      <td>1309</td>\n      <td>EU27_2020</td>\n      <td>HUR</td>\n      <td>TOT</td>\n      <td>PC_LF</td>\n      <td>A</td>\n      <td>2018</td>\n      <td>7.300000</td>\n      <td>None</td>\n    </tr>\n    <tr>\n      <th>313</th>\n      <td>1310</td>\n      <td>EU27_2020</td>\n      <td>HUR</td>\n      <td>TOT</td>\n      <td>PC_LF</td>\n      <td>A</td>\n      <td>2019</td>\n      <td>6.733333</td>\n      <td>None</td>\n    </tr>\n  </tbody>\n</table>\n<p>314 rows × 9 columns</p>\n</div>"
     },
     "metadata": {},
     "execution_count": 34
    }
   ],
   "source": [
    "redux_unemp_df"
   ]
  },
  {
   "cell_type": "code",
   "execution_count": 35,
   "metadata": {},
   "outputs": [],
   "source": [
    "redux_unemp_df.to_sql(name='redux_unemp', con=engine, if_exists='append', index=False)"
   ]
  },
  {
   "cell_type": "code",
   "execution_count": null,
   "metadata": {},
   "outputs": [],
   "source": [
    "# keeping the countries relevant to our stock exchanges\n",
    "query2=\"\"\"select * from raw_employment where \"LOCATION\" = 'USA' OR \"LOCATION\" = 'CAN' OR \"LOCATION\" = 'CHE' OR \"LOCATION\" = 'DEU' OR \"LOCATION\" = 'JPN' OR \"LOCATION\" = 'KOR' OR \"LOCATION\" = 'EA19' OR \"LOCATION\" = 'EU27_2020'\"\"\"\n",
    "redux_emp_df=pd.read_sql_query(query2, con=engine)"
   ]
  },
  {
   "cell_type": "code",
   "execution_count": null,
   "metadata": {},
   "outputs": [],
   "source": [
    "redux_emp_df"
   ]
  },
  {
   "cell_type": "code",
   "execution_count": null,
   "metadata": {},
   "outputs": [],
   "source": [
    "redux_emp_df.to_sql(name='redux_unemp', con=engine, if_exists='append', index=False)"
   ]
  },
  {
   "source": [
    "# creating dictionary key to map countries\n",
    "conversion_dict = {\n",
    "    'Country': [], # this is standard country or group names (few different Euro groups)\n",
    "    'Job_Loc': [], # this is the abbreviation from jobs files\n",
    "    'Stock_Region': [], # this is Region from indexInfo\n",
    "    'Unemp': [], # boolean\n",
    "    'Emp': [] # boolean \n",
    "}"
   ],
   "cell_type": "code",
   "metadata": {},
   "execution_count": null,
   "outputs": []
  }
 ],
 "metadata": {
  "orig_nbformat": 4,
  "language_info": {
   "name": "python",
   "version": "3.8.5",
   "mimetype": "text/x-python",
   "codemirror_mode": {
    "name": "ipython",
    "version": 3
   },
   "pygments_lexer": "ipython3",
   "nbconvert_exporter": "python",
   "file_extension": ".py"
  },
  "kernelspec": {
   "name": "python3",
   "display_name": "Python 3.8.5 64-bit ('base': conda)"
  },
  "interpreter": {
   "hash": "b21e3d5b84fd32b1c294a5ef697010f168da096a737190285455488f8a9651c5"
  }
 },
 "nbformat": 4,
 "nbformat_minor": 2
}