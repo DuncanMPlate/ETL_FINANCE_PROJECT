{
 "cells": [
  {
   "cell_type": "code",
   "execution_count": 1,
   "source": [
    "import pandas as pd\n",
    "from sqlalchemy import create_engine \n",
    "from sqlalchemy.orm import Session"
   ],
   "outputs": [],
   "metadata": {}
  },
  {
   "cell_type": "code",
   "execution_count": 2,
   "metadata": {},
   "outputs": [],
   "source": [
    "# Updated reference for unemployment data:\n",
    "# OECD (2021), Unemployment rate (indicator). doi: 10.1787/52570002-en (Accessed on 07 August 2021)\n",
    "# Definition of Unemployment rate\n",
    "# The unemployed are people of working age who are without work, are available for work, and have taken specific steps to find work. The uniform application of this definition results in estimates of unemployment rates that are more internationally comparable than estimates based on national definitions of unemployment. This indicator is measured in numbers of unemployed people as a percentage of the labour force and it is seasonally adjusted. The labour force is defined as the total number of unemployed people plus those in employment. Data are based on labour force surveys (LFS).  For European Union countries where monthly LFS information is not available, the monthly unemployed figures are estimated by Eurostat."
   ]
  },
  {
   "cell_type": "code",
   "execution_count": 4,
   "source": [
    "csv_file_unemp =\"../group_project_2_copy/Resources/unemployment.csv\"\n",
    "unemployment_raw_df= pd.read_csv(csv_file_unemp)\n",
    "unemployment_raw_df.head()"
   ],
   "outputs": [
    {
     "output_type": "execute_result",
     "data": {
      "text/plain": [
       "  LOCATION INDICATOR SUBJECT MEASURE FREQUENCY  TIME  Value Flag Codes\n",
       "0      AUS       HUR     TOT   PC_LF         A  1967  1.875        NaN\n",
       "1      AUS       HUR     TOT   PC_LF         A  1968  1.850        NaN\n",
       "2      AUS       HUR     TOT   PC_LF         A  1969  1.800        NaN\n",
       "3      AUS       HUR     TOT   PC_LF         A  1970  1.625        NaN\n",
       "4      AUS       HUR     TOT   PC_LF         A  1971  1.925        NaN"
      ],
      "text/html": "<div>\n<style scoped>\n    .dataframe tbody tr th:only-of-type {\n        vertical-align: middle;\n    }\n\n    .dataframe tbody tr th {\n        vertical-align: top;\n    }\n\n    .dataframe thead th {\n        text-align: right;\n    }\n</style>\n<table border=\"1\" class=\"dataframe\">\n  <thead>\n    <tr style=\"text-align: right;\">\n      <th></th>\n      <th>LOCATION</th>\n      <th>INDICATOR</th>\n      <th>SUBJECT</th>\n      <th>MEASURE</th>\n      <th>FREQUENCY</th>\n      <th>TIME</th>\n      <th>Value</th>\n      <th>Flag Codes</th>\n    </tr>\n  </thead>\n  <tbody>\n    <tr>\n      <th>0</th>\n      <td>AUS</td>\n      <td>HUR</td>\n      <td>TOT</td>\n      <td>PC_LF</td>\n      <td>A</td>\n      <td>1967</td>\n      <td>1.875</td>\n      <td>NaN</td>\n    </tr>\n    <tr>\n      <th>1</th>\n      <td>AUS</td>\n      <td>HUR</td>\n      <td>TOT</td>\n      <td>PC_LF</td>\n      <td>A</td>\n      <td>1968</td>\n      <td>1.850</td>\n      <td>NaN</td>\n    </tr>\n    <tr>\n      <th>2</th>\n      <td>AUS</td>\n      <td>HUR</td>\n      <td>TOT</td>\n      <td>PC_LF</td>\n      <td>A</td>\n      <td>1969</td>\n      <td>1.800</td>\n      <td>NaN</td>\n    </tr>\n    <tr>\n      <th>3</th>\n      <td>AUS</td>\n      <td>HUR</td>\n      <td>TOT</td>\n      <td>PC_LF</td>\n      <td>A</td>\n      <td>1970</td>\n      <td>1.625</td>\n      <td>NaN</td>\n    </tr>\n    <tr>\n      <th>4</th>\n      <td>AUS</td>\n      <td>HUR</td>\n      <td>TOT</td>\n      <td>PC_LF</td>\n      <td>A</td>\n      <td>1971</td>\n      <td>1.925</td>\n      <td>NaN</td>\n    </tr>\n  </tbody>\n</table>\n</div>"
     },
     "metadata": {},
     "execution_count": 4
    }
   ],
   "metadata": {}
  },
  {
   "cell_type": "code",
   "execution_count": 4,
   "metadata": {},
   "outputs": [],
   "source": [
    "# https://data.oecd.org/emp/employment-rate.htm\n",
    "## OECD (2021), Employment rate (indicator). doi: 10.1787/1de68a9b-en (Accessed on 07 August 2021)\n",
    "# Definition of Employment rate\n",
    "# Employment rates are defined as a measure of the extent to which available labour resources (people available to work) are being used. They are calculated as the ratio of the employed to the working age population. Employment rates are sensitive to the economic cycle, but in the longer term they are significantly affected by governments' higher education and income support policies and by policies that facilitate employment of women and disadvantaged groups. Employed people are those aged 15 or over who report that they have worked in gainful employment for at least one hour in the previous week or who had a job but were absent from work during the reference week. The working age population refers to people aged 15 to 64. This indicator is seasonally adjusted and it is measured in terms of thousand persons aged 15 and over; and in numbers of employed persons aged 15 to 64 as a percentage of working age population."
   ]
  },
  {
   "source": [
    "csv_file_emp =\"../group_project_2_copy/Resources/employment.csv\"\n",
    "employment_raw_df= pd.read_csv(csv_file_emp)\n",
    "employment_raw_df.head()"
   ],
   "cell_type": "code",
   "metadata": {},
   "execution_count": 5,
   "outputs": [
    {
     "output_type": "execute_result",
     "data": {
      "text/plain": [
       "  LOCATION INDICATOR SUBJECT    MEASURE FREQUENCY  TIME     Value Flag Codes\n",
       "0      AUS       EMP     TOT  PC_WKGPOP         A  1979  64.38335        NaN\n",
       "1      AUS       EMP     TOT  PC_WKGPOP         A  1980  65.17445        NaN\n",
       "2      AUS       EMP     TOT  PC_WKGPOP         A  1981  65.36742        NaN\n",
       "3      AUS       EMP     TOT  PC_WKGPOP         A  1982  64.16441        NaN\n",
       "4      AUS       EMP     TOT  PC_WKGPOP         A  1983  61.94022        NaN"
      ],
      "text/html": "<div>\n<style scoped>\n    .dataframe tbody tr th:only-of-type {\n        vertical-align: middle;\n    }\n\n    .dataframe tbody tr th {\n        vertical-align: top;\n    }\n\n    .dataframe thead th {\n        text-align: right;\n    }\n</style>\n<table border=\"1\" class=\"dataframe\">\n  <thead>\n    <tr style=\"text-align: right;\">\n      <th></th>\n      <th>LOCATION</th>\n      <th>INDICATOR</th>\n      <th>SUBJECT</th>\n      <th>MEASURE</th>\n      <th>FREQUENCY</th>\n      <th>TIME</th>\n      <th>Value</th>\n      <th>Flag Codes</th>\n    </tr>\n  </thead>\n  <tbody>\n    <tr>\n      <th>0</th>\n      <td>AUS</td>\n      <td>EMP</td>\n      <td>TOT</td>\n      <td>PC_WKGPOP</td>\n      <td>A</td>\n      <td>1979</td>\n      <td>64.38335</td>\n      <td>NaN</td>\n    </tr>\n    <tr>\n      <th>1</th>\n      <td>AUS</td>\n      <td>EMP</td>\n      <td>TOT</td>\n      <td>PC_WKGPOP</td>\n      <td>A</td>\n      <td>1980</td>\n      <td>65.17445</td>\n      <td>NaN</td>\n    </tr>\n    <tr>\n      <th>2</th>\n      <td>AUS</td>\n      <td>EMP</td>\n      <td>TOT</td>\n      <td>PC_WKGPOP</td>\n      <td>A</td>\n      <td>1981</td>\n      <td>65.36742</td>\n      <td>NaN</td>\n    </tr>\n    <tr>\n      <th>3</th>\n      <td>AUS</td>\n      <td>EMP</td>\n      <td>TOT</td>\n      <td>PC_WKGPOP</td>\n      <td>A</td>\n      <td>1982</td>\n      <td>64.16441</td>\n      <td>NaN</td>\n    </tr>\n    <tr>\n      <th>4</th>\n      <td>AUS</td>\n      <td>EMP</td>\n      <td>TOT</td>\n      <td>PC_WKGPOP</td>\n      <td>A</td>\n      <td>1983</td>\n      <td>61.94022</td>\n      <td>NaN</td>\n    </tr>\n  </tbody>\n</table>\n</div>"
     },
     "metadata": {},
     "execution_count": 5
    }
   ]
  },
  {
   "cell_type": "code",
   "execution_count": 6,
   "source": [
    "rds_connection_string = \"<username>:<password>@localhost:5432/stock_exchange\"\n",
    "engine = create_engine(f'postgresql://{rds_connection_string}')"
   ],
   "outputs": [],
   "metadata": {}
  },
  {
   "cell_type": "code",
   "execution_count": 8,
   "source": [
    "unemployment_raw_df.to_sql(name='raw_unemployment', con=engine, if_exists='append', index=True,index_label='id')"
   ],
   "outputs": [],
   "metadata": {}
  },
  {
   "source": [
    "employment_raw_df.to_sql(name='raw_employment', con=engine, if_exists='append', index=True, index_label='id')"
   ],
   "cell_type": "code",
   "metadata": {},
   "execution_count": 9,
   "outputs": []
  },
  {
   "cell_type": "code",
   "execution_count": 10,
   "metadata": {},
   "outputs": [
    {
     "output_type": "execute_result",
     "data": {
      "text/plain": [
       "['indexinfo', 'indexdata', 'raw_unemployment', 'raw_employment']"
      ]
     },
     "metadata": {},
     "execution_count": 10
    }
   ],
   "source": [
    "engine.table_names()"
   ]
  },
  {
   "cell_type": "code",
   "execution_count": 11,
   "metadata": {},
   "outputs": [
    {
     "output_type": "execute_result",
     "data": {
      "text/plain": [
       "   id LOCATION INDICATOR SUBJECT MEASURE FREQUENCY  TIME  Value Flag Codes\n",
       "0   0      AUS       HUR     TOT   PC_LF         A  1967  1.875       None\n",
       "1   1      AUS       HUR     TOT   PC_LF         A  1968  1.850       None\n",
       "2   2      AUS       HUR     TOT   PC_LF         A  1969  1.800       None\n",
       "3   3      AUS       HUR     TOT   PC_LF         A  1970  1.625       None\n",
       "4   4      AUS       HUR     TOT   PC_LF         A  1971  1.925       None"
      ],
      "text/html": "<div>\n<style scoped>\n    .dataframe tbody tr th:only-of-type {\n        vertical-align: middle;\n    }\n\n    .dataframe tbody tr th {\n        vertical-align: top;\n    }\n\n    .dataframe thead th {\n        text-align: right;\n    }\n</style>\n<table border=\"1\" class=\"dataframe\">\n  <thead>\n    <tr style=\"text-align: right;\">\n      <th></th>\n      <th>id</th>\n      <th>LOCATION</th>\n      <th>INDICATOR</th>\n      <th>SUBJECT</th>\n      <th>MEASURE</th>\n      <th>FREQUENCY</th>\n      <th>TIME</th>\n      <th>Value</th>\n      <th>Flag Codes</th>\n    </tr>\n  </thead>\n  <tbody>\n    <tr>\n      <th>0</th>\n      <td>0</td>\n      <td>AUS</td>\n      <td>HUR</td>\n      <td>TOT</td>\n      <td>PC_LF</td>\n      <td>A</td>\n      <td>1967</td>\n      <td>1.875</td>\n      <td>None</td>\n    </tr>\n    <tr>\n      <th>1</th>\n      <td>1</td>\n      <td>AUS</td>\n      <td>HUR</td>\n      <td>TOT</td>\n      <td>PC_LF</td>\n      <td>A</td>\n      <td>1968</td>\n      <td>1.850</td>\n      <td>None</td>\n    </tr>\n    <tr>\n      <th>2</th>\n      <td>2</td>\n      <td>AUS</td>\n      <td>HUR</td>\n      <td>TOT</td>\n      <td>PC_LF</td>\n      <td>A</td>\n      <td>1969</td>\n      <td>1.800</td>\n      <td>None</td>\n    </tr>\n    <tr>\n      <th>3</th>\n      <td>3</td>\n      <td>AUS</td>\n      <td>HUR</td>\n      <td>TOT</td>\n      <td>PC_LF</td>\n      <td>A</td>\n      <td>1970</td>\n      <td>1.625</td>\n      <td>None</td>\n    </tr>\n    <tr>\n      <th>4</th>\n      <td>4</td>\n      <td>AUS</td>\n      <td>HUR</td>\n      <td>TOT</td>\n      <td>PC_LF</td>\n      <td>A</td>\n      <td>1971</td>\n      <td>1.925</td>\n      <td>None</td>\n    </tr>\n  </tbody>\n</table>\n</div>"
     },
     "metadata": {},
     "execution_count": 11
    }
   ],
   "source": [
    "pd.read_sql_query(f'select * from raw_unemployment', con=engine).head()"
   ]
  },
  {
   "cell_type": "code",
   "execution_count": 12,
   "metadata": {},
   "outputs": [
    {
     "output_type": "execute_result",
     "data": {
      "text/plain": [
       "   id LOCATION INDICATOR SUBJECT    MEASURE FREQUENCY  TIME     Value  \\\n",
       "0   0      AUS       EMP     TOT  PC_WKGPOP         A  1979  64.38335   \n",
       "1   1      AUS       EMP     TOT  PC_WKGPOP         A  1980  65.17445   \n",
       "2   2      AUS       EMP     TOT  PC_WKGPOP         A  1981  65.36742   \n",
       "3   3      AUS       EMP     TOT  PC_WKGPOP         A  1982  64.16441   \n",
       "4   4      AUS       EMP     TOT  PC_WKGPOP         A  1983  61.94022   \n",
       "\n",
       "  Flag Codes  \n",
       "0       None  \n",
       "1       None  \n",
       "2       None  \n",
       "3       None  \n",
       "4       None  "
      ],
      "text/html": "<div>\n<style scoped>\n    .dataframe tbody tr th:only-of-type {\n        vertical-align: middle;\n    }\n\n    .dataframe tbody tr th {\n        vertical-align: top;\n    }\n\n    .dataframe thead th {\n        text-align: right;\n    }\n</style>\n<table border=\"1\" class=\"dataframe\">\n  <thead>\n    <tr style=\"text-align: right;\">\n      <th></th>\n      <th>id</th>\n      <th>LOCATION</th>\n      <th>INDICATOR</th>\n      <th>SUBJECT</th>\n      <th>MEASURE</th>\n      <th>FREQUENCY</th>\n      <th>TIME</th>\n      <th>Value</th>\n      <th>Flag Codes</th>\n    </tr>\n  </thead>\n  <tbody>\n    <tr>\n      <th>0</th>\n      <td>0</td>\n      <td>AUS</td>\n      <td>EMP</td>\n      <td>TOT</td>\n      <td>PC_WKGPOP</td>\n      <td>A</td>\n      <td>1979</td>\n      <td>64.38335</td>\n      <td>None</td>\n    </tr>\n    <tr>\n      <th>1</th>\n      <td>1</td>\n      <td>AUS</td>\n      <td>EMP</td>\n      <td>TOT</td>\n      <td>PC_WKGPOP</td>\n      <td>A</td>\n      <td>1980</td>\n      <td>65.17445</td>\n      <td>None</td>\n    </tr>\n    <tr>\n      <th>2</th>\n      <td>2</td>\n      <td>AUS</td>\n      <td>EMP</td>\n      <td>TOT</td>\n      <td>PC_WKGPOP</td>\n      <td>A</td>\n      <td>1981</td>\n      <td>65.36742</td>\n      <td>None</td>\n    </tr>\n    <tr>\n      <th>3</th>\n      <td>3</td>\n      <td>AUS</td>\n      <td>EMP</td>\n      <td>TOT</td>\n      <td>PC_WKGPOP</td>\n      <td>A</td>\n      <td>1982</td>\n      <td>64.16441</td>\n      <td>None</td>\n    </tr>\n    <tr>\n      <th>4</th>\n      <td>4</td>\n      <td>AUS</td>\n      <td>EMP</td>\n      <td>TOT</td>\n      <td>PC_WKGPOP</td>\n      <td>A</td>\n      <td>1983</td>\n      <td>61.94022</td>\n      <td>None</td>\n    </tr>\n  </tbody>\n</table>\n</div>"
     },
     "metadata": {},
     "execution_count": 12
    }
   ],
   "source": [
    "pd.read_sql_query(f'select * from raw_employment', con=engine).head()"
   ]
  },
  {
   "cell_type": "code",
   "execution_count": 16,
   "metadata": {},
   "outputs": [],
   "source": [
    "# keeping the countries relevant to our stock exchanges\n",
    "query1=\"\"\"select * from raw_unemployment where \"LOCATION\" = 'USA' OR \"LOCATION\" = 'CAN' OR \"LOCATION\" = 'CHE' OR \"LOCATION\" = 'DEU' OR \"LOCATION\" = 'JPN' OR \"LOCATION\" = 'KOR' OR \"LOCATION\" = 'EA19' OR \"LOCATION\" = 'EU27_2020'\"\"\"\n",
    "unemp_clean_df=pd.read_sql_query(query1, con=engine)"
   ]
  },
  {
   "cell_type": "code",
   "execution_count": 17,
   "metadata": {},
   "outputs": [
    {
     "output_type": "execute_result",
     "data": {
      "text/plain": [
       "       id   LOCATION INDICATOR SUBJECT MEASURE FREQUENCY  TIME      Value  \\\n",
       "0     117        CAN       HUR     TOT   PC_LF         A  1955   4.408333   \n",
       "1     118        CAN       HUR     TOT   PC_LF         A  1956   3.433333   \n",
       "2     119        CAN       HUR     TOT   PC_LF         A  1957   4.650000   \n",
       "3     120        CAN       HUR     TOT   PC_LF         A  1958   7.066667   \n",
       "4     121        CAN       HUR     TOT   PC_LF         A  1959   5.991667   \n",
       "..    ...        ...       ...     ...     ...       ...   ...        ...   \n",
       "309  1306  EU27_2020       HUR     TOT   PC_LF         A  2015  10.075000   \n",
       "310  1307  EU27_2020       HUR     TOT   PC_LF         A  2016   9.175000   \n",
       "311  1308  EU27_2020       HUR     TOT   PC_LF         A  2017   8.175000   \n",
       "312  1309  EU27_2020       HUR     TOT   PC_LF         A  2018   7.300000   \n",
       "313  1310  EU27_2020       HUR     TOT   PC_LF         A  2019   6.733333   \n",
       "\n",
       "    Flag Codes  \n",
       "0         None  \n",
       "1         None  \n",
       "2         None  \n",
       "3         None  \n",
       "4         None  \n",
       "..         ...  \n",
       "309       None  \n",
       "310       None  \n",
       "311       None  \n",
       "312       None  \n",
       "313       None  \n",
       "\n",
       "[314 rows x 9 columns]"
      ],
      "text/html": "<div>\n<style scoped>\n    .dataframe tbody tr th:only-of-type {\n        vertical-align: middle;\n    }\n\n    .dataframe tbody tr th {\n        vertical-align: top;\n    }\n\n    .dataframe thead th {\n        text-align: right;\n    }\n</style>\n<table border=\"1\" class=\"dataframe\">\n  <thead>\n    <tr style=\"text-align: right;\">\n      <th></th>\n      <th>id</th>\n      <th>LOCATION</th>\n      <th>INDICATOR</th>\n      <th>SUBJECT</th>\n      <th>MEASURE</th>\n      <th>FREQUENCY</th>\n      <th>TIME</th>\n      <th>Value</th>\n      <th>Flag Codes</th>\n    </tr>\n  </thead>\n  <tbody>\n    <tr>\n      <th>0</th>\n      <td>117</td>\n      <td>CAN</td>\n      <td>HUR</td>\n      <td>TOT</td>\n      <td>PC_LF</td>\n      <td>A</td>\n      <td>1955</td>\n      <td>4.408333</td>\n      <td>None</td>\n    </tr>\n    <tr>\n      <th>1</th>\n      <td>118</td>\n      <td>CAN</td>\n      <td>HUR</td>\n      <td>TOT</td>\n      <td>PC_LF</td>\n      <td>A</td>\n      <td>1956</td>\n      <td>3.433333</td>\n      <td>None</td>\n    </tr>\n    <tr>\n      <th>2</th>\n      <td>119</td>\n      <td>CAN</td>\n      <td>HUR</td>\n      <td>TOT</td>\n      <td>PC_LF</td>\n      <td>A</td>\n      <td>1957</td>\n      <td>4.650000</td>\n      <td>None</td>\n    </tr>\n    <tr>\n      <th>3</th>\n      <td>120</td>\n      <td>CAN</td>\n      <td>HUR</td>\n      <td>TOT</td>\n      <td>PC_LF</td>\n      <td>A</td>\n      <td>1958</td>\n      <td>7.066667</td>\n      <td>None</td>\n    </tr>\n    <tr>\n      <th>4</th>\n      <td>121</td>\n      <td>CAN</td>\n      <td>HUR</td>\n      <td>TOT</td>\n      <td>PC_LF</td>\n      <td>A</td>\n      <td>1959</td>\n      <td>5.991667</td>\n      <td>None</td>\n    </tr>\n    <tr>\n      <th>...</th>\n      <td>...</td>\n      <td>...</td>\n      <td>...</td>\n      <td>...</td>\n      <td>...</td>\n      <td>...</td>\n      <td>...</td>\n      <td>...</td>\n      <td>...</td>\n    </tr>\n    <tr>\n      <th>309</th>\n      <td>1306</td>\n      <td>EU27_2020</td>\n      <td>HUR</td>\n      <td>TOT</td>\n      <td>PC_LF</td>\n      <td>A</td>\n      <td>2015</td>\n      <td>10.075000</td>\n      <td>None</td>\n    </tr>\n    <tr>\n      <th>310</th>\n      <td>1307</td>\n      <td>EU27_2020</td>\n      <td>HUR</td>\n      <td>TOT</td>\n      <td>PC_LF</td>\n      <td>A</td>\n      <td>2016</td>\n      <td>9.175000</td>\n      <td>None</td>\n    </tr>\n    <tr>\n      <th>311</th>\n      <td>1308</td>\n      <td>EU27_2020</td>\n      <td>HUR</td>\n      <td>TOT</td>\n      <td>PC_LF</td>\n      <td>A</td>\n      <td>2017</td>\n      <td>8.175000</td>\n      <td>None</td>\n    </tr>\n    <tr>\n      <th>312</th>\n      <td>1309</td>\n      <td>EU27_2020</td>\n      <td>HUR</td>\n      <td>TOT</td>\n      <td>PC_LF</td>\n      <td>A</td>\n      <td>2018</td>\n      <td>7.300000</td>\n      <td>None</td>\n    </tr>\n    <tr>\n      <th>313</th>\n      <td>1310</td>\n      <td>EU27_2020</td>\n      <td>HUR</td>\n      <td>TOT</td>\n      <td>PC_LF</td>\n      <td>A</td>\n      <td>2019</td>\n      <td>6.733333</td>\n      <td>None</td>\n    </tr>\n  </tbody>\n</table>\n<p>314 rows × 9 columns</p>\n</div>"
     },
     "metadata": {},
     "execution_count": 17
    }
   ],
   "source": [
    "unemp_clean_df"
   ]
  },
  {
   "cell_type": "code",
   "execution_count": 18,
   "metadata": {},
   "outputs": [],
   "source": [
    "unemp_clean_df.to_sql(name='unemp_clean', con=engine, if_exists='append', index=False)"
   ]
  },
  {
   "cell_type": "code",
   "execution_count": 19,
   "metadata": {},
   "outputs": [],
   "source": [
    "# keeping the countries relevant to our stock exchanges\n",
    "query2=\"\"\"select * from raw_employment where \"LOCATION\" = 'USA' OR \"LOCATION\" = 'CAN' OR \"LOCATION\" = 'CHE' OR \"LOCATION\" = 'DEU' OR \"LOCATION\" = 'JPN' OR \"LOCATION\" = 'KOR' OR \"LOCATION\" = 'EA19' OR \"LOCATION\" = 'EU27_2020' OR \"LOCATION\" = 'ZAF'\"\"\"\n",
    "emp_clean_df=pd.read_sql_query(query2, con=engine)"
   ]
  },
  {
   "cell_type": "code",
   "execution_count": 20,
   "metadata": {},
   "outputs": [
    {
     "output_type": "execute_result",
     "data": {
      "text/plain": [
       "      id   LOCATION INDICATOR SUBJECT    MEASURE FREQUENCY  TIME     Value  \\\n",
       "0     86        CAN       EMP     TOT  PC_WKGPOP         A  1995  67.52500   \n",
       "1     87        CAN       EMP     TOT  PC_WKGPOP         A  1996  67.35000   \n",
       "2     88        CAN       EMP     TOT  PC_WKGPOP         A  1997  67.98333   \n",
       "3     89        CAN       EMP     TOT  PC_WKGPOP         A  1998  68.95000   \n",
       "4     90        CAN       EMP     TOT  PC_WKGPOP         A  1999  69.98333   \n",
       "..   ...        ...       ...     ...        ...       ...   ...       ...   \n",
       "246  952  EU27_2020       EMP     TOT  PC_WKGPOP         A  2016  65.57500   \n",
       "247  953  EU27_2020       EMP     TOT  PC_WKGPOP         A  2017  66.72500   \n",
       "248  954  EU27_2020       EMP     TOT  PC_WKGPOP         A  2018  67.65000   \n",
       "249  955  EU27_2020       EMP     TOT  PC_WKGPOP         A  2019  68.40000   \n",
       "250  956  EU27_2020       EMP     TOT  PC_WKGPOP         A  2020  67.62500   \n",
       "\n",
       "    Flag Codes  \n",
       "0         None  \n",
       "1         None  \n",
       "2         None  \n",
       "3         None  \n",
       "4         None  \n",
       "..         ...  \n",
       "246       None  \n",
       "247       None  \n",
       "248       None  \n",
       "249       None  \n",
       "250          B  \n",
       "\n",
       "[251 rows x 9 columns]"
      ],
      "text/html": "<div>\n<style scoped>\n    .dataframe tbody tr th:only-of-type {\n        vertical-align: middle;\n    }\n\n    .dataframe tbody tr th {\n        vertical-align: top;\n    }\n\n    .dataframe thead th {\n        text-align: right;\n    }\n</style>\n<table border=\"1\" class=\"dataframe\">\n  <thead>\n    <tr style=\"text-align: right;\">\n      <th></th>\n      <th>id</th>\n      <th>LOCATION</th>\n      <th>INDICATOR</th>\n      <th>SUBJECT</th>\n      <th>MEASURE</th>\n      <th>FREQUENCY</th>\n      <th>TIME</th>\n      <th>Value</th>\n      <th>Flag Codes</th>\n    </tr>\n  </thead>\n  <tbody>\n    <tr>\n      <th>0</th>\n      <td>86</td>\n      <td>CAN</td>\n      <td>EMP</td>\n      <td>TOT</td>\n      <td>PC_WKGPOP</td>\n      <td>A</td>\n      <td>1995</td>\n      <td>67.52500</td>\n      <td>None</td>\n    </tr>\n    <tr>\n      <th>1</th>\n      <td>87</td>\n      <td>CAN</td>\n      <td>EMP</td>\n      <td>TOT</td>\n      <td>PC_WKGPOP</td>\n      <td>A</td>\n      <td>1996</td>\n      <td>67.35000</td>\n      <td>None</td>\n    </tr>\n    <tr>\n      <th>2</th>\n      <td>88</td>\n      <td>CAN</td>\n      <td>EMP</td>\n      <td>TOT</td>\n      <td>PC_WKGPOP</td>\n      <td>A</td>\n      <td>1997</td>\n      <td>67.98333</td>\n      <td>None</td>\n    </tr>\n    <tr>\n      <th>3</th>\n      <td>89</td>\n      <td>CAN</td>\n      <td>EMP</td>\n      <td>TOT</td>\n      <td>PC_WKGPOP</td>\n      <td>A</td>\n      <td>1998</td>\n      <td>68.95000</td>\n      <td>None</td>\n    </tr>\n    <tr>\n      <th>4</th>\n      <td>90</td>\n      <td>CAN</td>\n      <td>EMP</td>\n      <td>TOT</td>\n      <td>PC_WKGPOP</td>\n      <td>A</td>\n      <td>1999</td>\n      <td>69.98333</td>\n      <td>None</td>\n    </tr>\n    <tr>\n      <th>...</th>\n      <td>...</td>\n      <td>...</td>\n      <td>...</td>\n      <td>...</td>\n      <td>...</td>\n      <td>...</td>\n      <td>...</td>\n      <td>...</td>\n      <td>...</td>\n    </tr>\n    <tr>\n      <th>246</th>\n      <td>952</td>\n      <td>EU27_2020</td>\n      <td>EMP</td>\n      <td>TOT</td>\n      <td>PC_WKGPOP</td>\n      <td>A</td>\n      <td>2016</td>\n      <td>65.57500</td>\n      <td>None</td>\n    </tr>\n    <tr>\n      <th>247</th>\n      <td>953</td>\n      <td>EU27_2020</td>\n      <td>EMP</td>\n      <td>TOT</td>\n      <td>PC_WKGPOP</td>\n      <td>A</td>\n      <td>2017</td>\n      <td>66.72500</td>\n      <td>None</td>\n    </tr>\n    <tr>\n      <th>248</th>\n      <td>954</td>\n      <td>EU27_2020</td>\n      <td>EMP</td>\n      <td>TOT</td>\n      <td>PC_WKGPOP</td>\n      <td>A</td>\n      <td>2018</td>\n      <td>67.65000</td>\n      <td>None</td>\n    </tr>\n    <tr>\n      <th>249</th>\n      <td>955</td>\n      <td>EU27_2020</td>\n      <td>EMP</td>\n      <td>TOT</td>\n      <td>PC_WKGPOP</td>\n      <td>A</td>\n      <td>2019</td>\n      <td>68.40000</td>\n      <td>None</td>\n    </tr>\n    <tr>\n      <th>250</th>\n      <td>956</td>\n      <td>EU27_2020</td>\n      <td>EMP</td>\n      <td>TOT</td>\n      <td>PC_WKGPOP</td>\n      <td>A</td>\n      <td>2020</td>\n      <td>67.62500</td>\n      <td>B</td>\n    </tr>\n  </tbody>\n</table>\n<p>251 rows × 9 columns</p>\n</div>"
     },
     "metadata": {},
     "execution_count": 20
    }
   ],
   "source": [
    "emp_clean_df"
   ]
  },
  {
   "cell_type": "code",
   "execution_count": 21,
   "metadata": {},
   "outputs": [],
   "source": [
    "emp_clean_df.to_sql(name='emp_clean', con=engine, if_exists='append', index=False)"
   ]
  },
  {
   "source": [
    "# creating dictionary key to map countries listed in indexInfo\n",
    "conversion_dict = {\n",
    "    'Country': ['Canada', 'China', 'Euro Area-19 (2015 to present)', 'European Union 27', 'Germany', 'Hong Kong', 'India', 'Japan', 'Korea', 'South Africa', 'Switzerland', 'Taiwan', 'United States'], # this is standard country or group names (few different Euro groups got dates of those from googling)\n",
    "    'Job_Loc': ['CAN', 'na', 'EA19', 'EU27-2020', 'DEU', 'na', 'na', 'JPN', 'KOR', 'ZAF', 'CHE', 'na', 'USA' ], # this is the abbreviation from jobs files (i.e., emp & unemp)\n",
    "    'Stock_Region': ['Canada', 'China', 'Europe', 'Europe', 'Germany', 'Hong Kong', 'India', 'Japan', 'Korea', 'South Africa', 'Switzerland', 'Taiwan', 'United States'], # this is Region from indexInfo\n",
    "    'Unemp': [True, False, True, True, True, False, False, True, True, False, True, False, True], # boolean\n",
    "    'Emp': [True, False, True, True, True, False, False, True, True, True, True, False, True] # boolean \n",
    "}"
   ],
   "cell_type": "code",
   "metadata": {},
   "execution_count": 22,
   "outputs": []
  },
  {
   "cell_type": "code",
   "execution_count": 24,
   "metadata": {},
   "outputs": [],
   "source": [
    "conversion_df=pd.DataFrame.from_dict(conversion_dict)"
   ]
  },
  {
   "cell_type": "code",
   "execution_count": 25,
   "metadata": {},
   "outputs": [
    {
     "output_type": "execute_result",
     "data": {
      "text/plain": [
       "                           Country    Job_Loc   Stock_Region  Unemp    Emp\n",
       "0                           Canada        CAN         Canada   True   True\n",
       "1                            China         na          China  False  False\n",
       "2   Euro Area-19 (2015 to present)       EA19         Europe   True   True\n",
       "3                European Union 27  EU27-2020         Europe   True   True\n",
       "4                          Germany        DEU        Germany   True   True\n",
       "5                        Hong Kong         na      Hong Kong  False  False\n",
       "6                            India         na          India  False  False\n",
       "7                            Japan        JPN          Japan   True   True\n",
       "8                            Korea        KOR          Korea   True   True\n",
       "9                     South Africa        ZAF   South Africa  False   True\n",
       "10                     Switzerland        CHE    Switzerland   True   True\n",
       "11                          Taiwan         na         Taiwan  False  False\n",
       "12                   United States        USA  United States   True   True"
      ],
      "text/html": "<div>\n<style scoped>\n    .dataframe tbody tr th:only-of-type {\n        vertical-align: middle;\n    }\n\n    .dataframe tbody tr th {\n        vertical-align: top;\n    }\n\n    .dataframe thead th {\n        text-align: right;\n    }\n</style>\n<table border=\"1\" class=\"dataframe\">\n  <thead>\n    <tr style=\"text-align: right;\">\n      <th></th>\n      <th>Country</th>\n      <th>Job_Loc</th>\n      <th>Stock_Region</th>\n      <th>Unemp</th>\n      <th>Emp</th>\n    </tr>\n  </thead>\n  <tbody>\n    <tr>\n      <th>0</th>\n      <td>Canada</td>\n      <td>CAN</td>\n      <td>Canada</td>\n      <td>True</td>\n      <td>True</td>\n    </tr>\n    <tr>\n      <th>1</th>\n      <td>China</td>\n      <td>na</td>\n      <td>China</td>\n      <td>False</td>\n      <td>False</td>\n    </tr>\n    <tr>\n      <th>2</th>\n      <td>Euro Area-19 (2015 to present)</td>\n      <td>EA19</td>\n      <td>Europe</td>\n      <td>True</td>\n      <td>True</td>\n    </tr>\n    <tr>\n      <th>3</th>\n      <td>European Union 27</td>\n      <td>EU27-2020</td>\n      <td>Europe</td>\n      <td>True</td>\n      <td>True</td>\n    </tr>\n    <tr>\n      <th>4</th>\n      <td>Germany</td>\n      <td>DEU</td>\n      <td>Germany</td>\n      <td>True</td>\n      <td>True</td>\n    </tr>\n    <tr>\n      <th>5</th>\n      <td>Hong Kong</td>\n      <td>na</td>\n      <td>Hong Kong</td>\n      <td>False</td>\n      <td>False</td>\n    </tr>\n    <tr>\n      <th>6</th>\n      <td>India</td>\n      <td>na</td>\n      <td>India</td>\n      <td>False</td>\n      <td>False</td>\n    </tr>\n    <tr>\n      <th>7</th>\n      <td>Japan</td>\n      <td>JPN</td>\n      <td>Japan</td>\n      <td>True</td>\n      <td>True</td>\n    </tr>\n    <tr>\n      <th>8</th>\n      <td>Korea</td>\n      <td>KOR</td>\n      <td>Korea</td>\n      <td>True</td>\n      <td>True</td>\n    </tr>\n    <tr>\n      <th>9</th>\n      <td>South Africa</td>\n      <td>ZAF</td>\n      <td>South Africa</td>\n      <td>False</td>\n      <td>True</td>\n    </tr>\n    <tr>\n      <th>10</th>\n      <td>Switzerland</td>\n      <td>CHE</td>\n      <td>Switzerland</td>\n      <td>True</td>\n      <td>True</td>\n    </tr>\n    <tr>\n      <th>11</th>\n      <td>Taiwan</td>\n      <td>na</td>\n      <td>Taiwan</td>\n      <td>False</td>\n      <td>False</td>\n    </tr>\n    <tr>\n      <th>12</th>\n      <td>United States</td>\n      <td>USA</td>\n      <td>United States</td>\n      <td>True</td>\n      <td>True</td>\n    </tr>\n  </tbody>\n</table>\n</div>"
     },
     "metadata": {},
     "execution_count": 25
    }
   ],
   "source": [
    "conversion_df"
   ]
  },
  {
   "cell_type": "code",
   "execution_count": 31,
   "metadata": {},
   "outputs": [],
   "source": [
    "conversion_df.to_sql(name='geomatching', con=engine, if_exists='append', index=False)"
   ]
  },
  {
   "cell_type": "code",
   "execution_count": null,
   "metadata": {},
   "outputs": [],
   "source": []
  }
 ],
 "metadata": {
  "orig_nbformat": 4,
  "language_info": {
   "name": "python",
   "version": "3.8.5",
   "mimetype": "text/x-python",
   "codemirror_mode": {
    "name": "ipython",
    "version": 3
   },
   "pygments_lexer": "ipython3",
   "nbconvert_exporter": "python",
   "file_extension": ".py"
  },
  "kernelspec": {
   "name": "python3",
   "display_name": "Python 3.8.5 64-bit ('base': conda)"
  },
  "interpreter": {
   "hash": "b21e3d5b84fd32b1c294a5ef697010f168da096a737190285455488f8a9651c5"
  }
 },
 "nbformat": 4,
 "nbformat_minor": 2
}